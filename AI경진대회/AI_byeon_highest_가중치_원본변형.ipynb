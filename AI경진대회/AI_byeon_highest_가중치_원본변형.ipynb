{
  "nbformat": 4,
  "nbformat_minor": 0,
  "metadata": {
    "kernelspec": {
      "display_name": "Python 3",
      "language": "python",
      "name": "python3"
    },
    "language_info": {
      "codemirror_mode": {
        "name": "ipython",
        "version": 3
      },
      "file_extension": ".py",
      "mimetype": "text/x-python",
      "name": "python",
      "nbconvert_exporter": "python",
      "pygments_lexer": "ipython3",
      "version": "3.8.5"
    },
    "toc": {
      "base_numbering": 1,
      "nav_menu": {},
      "number_sections": false,
      "sideBar": true,
      "skip_h1_title": false,
      "title_cell": "Table of Contents",
      "title_sidebar": "Contents",
      "toc_cell": false,
      "toc_position": {},
      "toc_section_display": true,
      "toc_window_display": false
    },
    "colab": {
      "name": "AI byeon highest 가중치 원본변형.ipynb",
      "provenance": [],
      "collapsed_sections": []
    },
    "accelerator": "GPU"
  },
  "cells": [
    {
      "cell_type": "markdown",
      "metadata": {
        "id": "KbIf4FX_lCKz"
      },
      "source": [
        "#시스템 품질 변화로 인한 사용자 불편 예지 AI 경진대회\n",
        "#LG | 채용 | 시스템 | 사용자 불편 | 정형 | AUC\n",
        "https://colab.research.google.com/drive/1YwV0B1fS_Y2XHculQWZWKxYfuC9aKQ4d#scrollTo=BCrVghdxUeD8\n",
        "## 목차\n",
        "### 1. Library Import\n",
        "### 2. 학습데이터 생성\n",
        "### 3. Light-gbm 모델 훈련\n",
        "### 4. 교차 검증 점수 확인\n",
        "### 5. 제출 파일 생성"
      ]
    },
    {
      "cell_type": "markdown",
      "metadata": {
        "id": "XotZNiPklCK1"
      },
      "source": [
        "# 1. Library Import"
      ]
    },
    {
      "cell_type": "code",
      "metadata": {
        "colab": {
          "base_uri": "https://localhost:8080/",
          "height": 264
        },
        "id": "I10W1cDNMpri",
        "outputId": "07d2843d-bdd3-4fd5-b61c-c5d8484833af"
      },
      "source": [
        "\n",
        "import os, sys \n",
        "from google.colab import drive \n",
        "drive.mount('/content/mnt') \n",
        "nb_path = '/content/notebooks' \n",
        "os.symlink('/content/mnt/', nb_path) \n",
        "sys.path.insert(0, nb_path)"
      ],
      "execution_count": null,
      "outputs": [
        {
          "output_type": "stream",
          "text": [
            "Drive already mounted at /content/mnt; to attempt to forcibly remount, call drive.mount(\"/content/mnt\", force_remount=True).\n"
          ],
          "name": "stdout"
        },
        {
          "output_type": "error",
          "ename": "FileExistsError",
          "evalue": "ignored",
          "traceback": [
            "\u001b[0;31m---------------------------------------------------------------------------\u001b[0m",
            "\u001b[0;31mFileExistsError\u001b[0m                           Traceback (most recent call last)",
            "\u001b[0;32m<ipython-input-2-a0341d70496c>\u001b[0m in \u001b[0;36m<module>\u001b[0;34m()\u001b[0m\n\u001b[1;32m      4\u001b[0m \u001b[0mdrive\u001b[0m\u001b[0;34m.\u001b[0m\u001b[0mmount\u001b[0m\u001b[0;34m(\u001b[0m\u001b[0;34m'/content/mnt'\u001b[0m\u001b[0;34m)\u001b[0m\u001b[0;34m\u001b[0m\u001b[0;34m\u001b[0m\u001b[0m\n\u001b[1;32m      5\u001b[0m \u001b[0mnb_path\u001b[0m \u001b[0;34m=\u001b[0m \u001b[0;34m'/content/notebooks'\u001b[0m\u001b[0;34m\u001b[0m\u001b[0;34m\u001b[0m\u001b[0m\n\u001b[0;32m----> 6\u001b[0;31m \u001b[0mos\u001b[0m\u001b[0;34m.\u001b[0m\u001b[0msymlink\u001b[0m\u001b[0;34m(\u001b[0m\u001b[0;34m'/content/mnt/'\u001b[0m\u001b[0;34m,\u001b[0m \u001b[0mnb_path\u001b[0m\u001b[0;34m)\u001b[0m\u001b[0;34m\u001b[0m\u001b[0;34m\u001b[0m\u001b[0m\n\u001b[0m\u001b[1;32m      7\u001b[0m \u001b[0msys\u001b[0m\u001b[0;34m.\u001b[0m\u001b[0mpath\u001b[0m\u001b[0;34m.\u001b[0m\u001b[0minsert\u001b[0m\u001b[0;34m(\u001b[0m\u001b[0;36m0\u001b[0m\u001b[0;34m,\u001b[0m \u001b[0mnb_path\u001b[0m\u001b[0;34m)\u001b[0m\u001b[0;34m\u001b[0m\u001b[0;34m\u001b[0m\u001b[0m\n",
            "\u001b[0;31mFileExistsError\u001b[0m: [Errno 17] File exists: '/content/mnt/' -> '/content/notebooks'"
          ]
        }
      ]
    },
    {
      "cell_type": "code",
      "metadata": {
        "id": "HvnFhS-olCK1"
      },
      "source": [
        "import pandas as pd\n",
        "import numpy as np\n",
        "import datetime as dt\n",
        "import matplotlib.pyplot as plt\n",
        "from tqdm import tqdm\n",
        "import gc\n",
        "import random\n",
        "import lightgbm as lgb\n",
        "import re\n",
        "from sklearn.metrics import *\n",
        "from sklearn.model_selection import KFold\n",
        "import tensorflow as tf\n",
        "import string\n",
        "from collections import Counter\n",
        "from tensorflow.keras.models import Sequential\n",
        "from tensorflow.keras.layers import BatchNormalization, Activation, Dropout, Flatten, Dense,Softmax, Embedding, GlobalAveragePooling1D\n",
        "from tensorflow.keras.layers.experimental.preprocessing import TextVectorization\n",
        "\n",
        "import warnings\n",
        "warnings.filterwarnings(action='ignore')\n",
        "\n",
        "\n",
        "\n",
        "\n",
        "\n",
        "# 필요한 함수 정의\n",
        "def make_datetime(x):\n",
        "    # string 타입의 Time column을 datetime 타입으로 변경\n",
        "    x     = str(x)\n",
        "    #print(\"x=\"+x)\n",
        "    year  = int(x[:4])\n",
        "    month = int(x[4:6])\n",
        "    day   = int(x[6:8])\n",
        "    hour  = int(x[8:10])\n",
        "    #print(year,month,day,hour)\n",
        "    #mim  = int(x[10:12])\n",
        "    #sec  = int(x[12:])\n",
        "    return dt.datetime(year, month, day, hour) #20201130190653\n",
        "\n",
        "def string2num(x):\n",
        "    # (,)( )과 같은 불피요한 데이터 정제\n",
        "    x = re.sub(r\"[^0-9]+\", '', str(x))\n",
        "    if x =='':\n",
        "        return 0\n",
        "    else:\n",
        "        return int(x)\n",
        "\n",
        "PATH='/content/mnt/MyDrive/Colab Notebooks/'\n",
        "#PATH = '/content/'"
      ],
      "execution_count": null,
      "outputs": []
    },
    {
      "cell_type": "markdown",
      "metadata": {
        "id": "vCkmB4qwlCK2"
      },
      "source": [
        "# 2. 학습 데이터 생성"
      ]
    },
    {
      "cell_type": "markdown",
      "metadata": {
        "id": "t4OFNzRPlCK2"
      },
      "source": [
        "## 2.1 train_err\n",
        "\n",
        "* train_err_data.csv 파일의 errtype column의 value_counts를 카운트하여 학습에 사용.  \n",
        "* 주어진 기간동안 user_id별로 peroblem가 한 번이라도 발생했는 지를 확인.  "
      ]
    },
    {
      "cell_type": "code",
      "metadata": {
        "scrolled": true,
        "id": "hJYTXyF1lCK2",
        "colab": {
          "base_uri": "https://localhost:8080/",
          "height": 419
        },
        "outputId": "e1976c4a-a7dd-4b18-a238-717b77922c61"
      },
      "source": [
        "train_err  = pd.read_csv(PATH+'train_err_data.csv')\n",
        "display(train_err.head(-5))"
      ],
      "execution_count": null,
      "outputs": [
        {
          "output_type": "display_data",
          "data": {
            "text/html": [
              "<div>\n",
              "<style scoped>\n",
              "    .dataframe tbody tr th:only-of-type {\n",
              "        vertical-align: middle;\n",
              "    }\n",
              "\n",
              "    .dataframe tbody tr th {\n",
              "        vertical-align: top;\n",
              "    }\n",
              "\n",
              "    .dataframe thead th {\n",
              "        text-align: right;\n",
              "    }\n",
              "</style>\n",
              "<table border=\"1\" class=\"dataframe\">\n",
              "  <thead>\n",
              "    <tr style=\"text-align: right;\">\n",
              "      <th></th>\n",
              "      <th>user_id</th>\n",
              "      <th>time</th>\n",
              "      <th>model_nm</th>\n",
              "      <th>fwver</th>\n",
              "      <th>errtype</th>\n",
              "      <th>errcode</th>\n",
              "    </tr>\n",
              "  </thead>\n",
              "  <tbody>\n",
              "    <tr>\n",
              "      <th>0</th>\n",
              "      <td>10000</td>\n",
              "      <td>20201101025616</td>\n",
              "      <td>model_3</td>\n",
              "      <td>05.15.2138</td>\n",
              "      <td>15</td>\n",
              "      <td>1</td>\n",
              "    </tr>\n",
              "    <tr>\n",
              "      <th>1</th>\n",
              "      <td>10000</td>\n",
              "      <td>20201101030309</td>\n",
              "      <td>model_3</td>\n",
              "      <td>05.15.2138</td>\n",
              "      <td>12</td>\n",
              "      <td>1</td>\n",
              "    </tr>\n",
              "    <tr>\n",
              "      <th>2</th>\n",
              "      <td>10000</td>\n",
              "      <td>20201101030309</td>\n",
              "      <td>model_3</td>\n",
              "      <td>05.15.2138</td>\n",
              "      <td>11</td>\n",
              "      <td>1</td>\n",
              "    </tr>\n",
              "    <tr>\n",
              "      <th>3</th>\n",
              "      <td>10000</td>\n",
              "      <td>20201101050514</td>\n",
              "      <td>model_3</td>\n",
              "      <td>05.15.2138</td>\n",
              "      <td>16</td>\n",
              "      <td>1</td>\n",
              "    </tr>\n",
              "    <tr>\n",
              "      <th>4</th>\n",
              "      <td>10000</td>\n",
              "      <td>20201101050515</td>\n",
              "      <td>model_3</td>\n",
              "      <td>05.15.2138</td>\n",
              "      <td>4</td>\n",
              "      <td>0</td>\n",
              "    </tr>\n",
              "    <tr>\n",
              "      <th>...</th>\n",
              "      <td>...</td>\n",
              "      <td>...</td>\n",
              "      <td>...</td>\n",
              "      <td>...</td>\n",
              "      <td>...</td>\n",
              "      <td>...</td>\n",
              "    </tr>\n",
              "    <tr>\n",
              "      <th>16554653</th>\n",
              "      <td>24999</td>\n",
              "      <td>20201130074711</td>\n",
              "      <td>model_3</td>\n",
              "      <td>05.15.2138</td>\n",
              "      <td>4</td>\n",
              "      <td>0</td>\n",
              "    </tr>\n",
              "    <tr>\n",
              "      <th>16554654</th>\n",
              "      <td>24999</td>\n",
              "      <td>20201130142105</td>\n",
              "      <td>model_3</td>\n",
              "      <td>05.15.2138</td>\n",
              "      <td>15</td>\n",
              "      <td>1</td>\n",
              "    </tr>\n",
              "    <tr>\n",
              "      <th>16554655</th>\n",
              "      <td>24999</td>\n",
              "      <td>20201130161510</td>\n",
              "      <td>model_3</td>\n",
              "      <td>05.15.2138</td>\n",
              "      <td>16</td>\n",
              "      <td>1</td>\n",
              "    </tr>\n",
              "    <tr>\n",
              "      <th>16554656</th>\n",
              "      <td>24999</td>\n",
              "      <td>20201130161511</td>\n",
              "      <td>model_3</td>\n",
              "      <td>05.15.2138</td>\n",
              "      <td>4</td>\n",
              "      <td>0</td>\n",
              "    </tr>\n",
              "    <tr>\n",
              "      <th>16554657</th>\n",
              "      <td>24999</td>\n",
              "      <td>20201130161517</td>\n",
              "      <td>model_3</td>\n",
              "      <td>05.15.2138</td>\n",
              "      <td>4</td>\n",
              "      <td>0</td>\n",
              "    </tr>\n",
              "  </tbody>\n",
              "</table>\n",
              "<p>16554658 rows × 6 columns</p>\n",
              "</div>"
            ],
            "text/plain": [
              "          user_id            time model_nm       fwver  errtype errcode\n",
              "0           10000  20201101025616  model_3  05.15.2138       15       1\n",
              "1           10000  20201101030309  model_3  05.15.2138       12       1\n",
              "2           10000  20201101030309  model_3  05.15.2138       11       1\n",
              "3           10000  20201101050514  model_3  05.15.2138       16       1\n",
              "4           10000  20201101050515  model_3  05.15.2138        4       0\n",
              "...           ...             ...      ...         ...      ...     ...\n",
              "16554653    24999  20201130074711  model_3  05.15.2138        4       0\n",
              "16554654    24999  20201130142105  model_3  05.15.2138       15       1\n",
              "16554655    24999  20201130161510  model_3  05.15.2138       16       1\n",
              "16554656    24999  20201130161511  model_3  05.15.2138        4       0\n",
              "16554657    24999  20201130161517  model_3  05.15.2138        4       0\n",
              "\n",
              "[16554658 rows x 6 columns]"
            ]
          },
          "metadata": {
            "tags": []
          }
        }
      ]
    },
    {
      "cell_type": "code",
      "metadata": {
        "scrolled": true,
        "id": "Q5OeuctIlCK3",
        "colab": {
          "base_uri": "https://localhost:8080/",
          "height": 204
        },
        "outputId": "242ee90d-db6b-4f08-d969-0a8b2e225444"
      },
      "source": [
        "# 데이터 설명을 확인하면\n",
        "# ueser_id가 10000부터 24999까지 총 15000개가 연속적으로 존재.\n",
        "display(train_err.head())\n",
        "train_user_id_max = 24999\n",
        "train_user_id_min = 10000\n",
        "train_user_number = 15000"
      ],
      "execution_count": null,
      "outputs": [
        {
          "output_type": "display_data",
          "data": {
            "text/html": [
              "<div>\n",
              "<style scoped>\n",
              "    .dataframe tbody tr th:only-of-type {\n",
              "        vertical-align: middle;\n",
              "    }\n",
              "\n",
              "    .dataframe tbody tr th {\n",
              "        vertical-align: top;\n",
              "    }\n",
              "\n",
              "    .dataframe thead th {\n",
              "        text-align: right;\n",
              "    }\n",
              "</style>\n",
              "<table border=\"1\" class=\"dataframe\">\n",
              "  <thead>\n",
              "    <tr style=\"text-align: right;\">\n",
              "      <th></th>\n",
              "      <th>user_id</th>\n",
              "      <th>time</th>\n",
              "      <th>model_nm</th>\n",
              "      <th>fwver</th>\n",
              "      <th>errtype</th>\n",
              "      <th>errcode</th>\n",
              "    </tr>\n",
              "  </thead>\n",
              "  <tbody>\n",
              "    <tr>\n",
              "      <th>0</th>\n",
              "      <td>10000</td>\n",
              "      <td>20201101025616</td>\n",
              "      <td>model_3</td>\n",
              "      <td>05.15.2138</td>\n",
              "      <td>15</td>\n",
              "      <td>1</td>\n",
              "    </tr>\n",
              "    <tr>\n",
              "      <th>1</th>\n",
              "      <td>10000</td>\n",
              "      <td>20201101030309</td>\n",
              "      <td>model_3</td>\n",
              "      <td>05.15.2138</td>\n",
              "      <td>12</td>\n",
              "      <td>1</td>\n",
              "    </tr>\n",
              "    <tr>\n",
              "      <th>2</th>\n",
              "      <td>10000</td>\n",
              "      <td>20201101030309</td>\n",
              "      <td>model_3</td>\n",
              "      <td>05.15.2138</td>\n",
              "      <td>11</td>\n",
              "      <td>1</td>\n",
              "    </tr>\n",
              "    <tr>\n",
              "      <th>3</th>\n",
              "      <td>10000</td>\n",
              "      <td>20201101050514</td>\n",
              "      <td>model_3</td>\n",
              "      <td>05.15.2138</td>\n",
              "      <td>16</td>\n",
              "      <td>1</td>\n",
              "    </tr>\n",
              "    <tr>\n",
              "      <th>4</th>\n",
              "      <td>10000</td>\n",
              "      <td>20201101050515</td>\n",
              "      <td>model_3</td>\n",
              "      <td>05.15.2138</td>\n",
              "      <td>4</td>\n",
              "      <td>0</td>\n",
              "    </tr>\n",
              "  </tbody>\n",
              "</table>\n",
              "</div>"
            ],
            "text/plain": [
              "   user_id            time model_nm       fwver  errtype errcode\n",
              "0    10000  20201101025616  model_3  05.15.2138       15       1\n",
              "1    10000  20201101030309  model_3  05.15.2138       12       1\n",
              "2    10000  20201101030309  model_3  05.15.2138       11       1\n",
              "3    10000  20201101050514  model_3  05.15.2138       16       1\n",
              "4    10000  20201101050515  model_3  05.15.2138        4       0"
            ]
          },
          "metadata": {
            "tags": []
          }
        }
      ]
    },
    {
      "cell_type": "code",
      "metadata": {
        "id": "QPkXSHzolCK4",
        "colab": {
          "base_uri": "https://localhost:8080/"
        },
        "outputId": "7716cdb4-022f-4439-aa11-49b9f528a4f5"
      },
      "source": [
        "#참고) 일별 합산 데이터 생성 코드      \n",
        "import datetime\n",
        "#train_err = pd.read_csv(PATH+'train_err_data.csv')\n",
        "train_err['datetime']=pd.to_datetime(train_err['time'])\n",
        "#train_err['time']\n",
        "#train_err['time'][0]\n",
        "#print(train_err['time'])\n",
        "train_err['datetime'] = train_err['time'].apply(make_datetime)\n",
        "print(train_err['datetime'][1])\n",
        "if(train_err['datetime'][0]<train_err['datetime'][1]+datetime.timedelta(hours=1)):\n",
        "    print(\"true\")\n"
      ],
      "execution_count": null,
      "outputs": [
        {
          "output_type": "stream",
          "text": [
            "2020-11-01 03:00:00\n",
            "true\n"
          ],
          "name": "stdout"
        }
      ]
    },
    {
      "cell_type": "code",
      "metadata": {
        "colab": {
          "base_uri": "https://localhost:8080/"
        },
        "id": "tf0DT56TbzRO",
        "outputId": "988edb59-ff48-4daa-f982-b0c39c76c151"
      },
      "source": [
        "errdic={}\n",
        "errdic[1]=0\n",
        "errdic[2]=1\n",
        "errdic[3]=2\n",
        "errdic[4]=3\n",
        "errdic[5]=4\n",
        "errdic[6]=5\n",
        "errdic[8]=6\n",
        "errdic[9]=7\n",
        "errdic[10]=8\n",
        "errdic[13]=9\n",
        "errdic[14]=10\n",
        "errdic[15]=11\n",
        "errdic[17]=12\n",
        "errdic[18]=13\n",
        "errdic[19]=14\n",
        "errdic[22]=15\n",
        "errdic[24]=16\n",
        "errdic[25]=17\n",
        "errdic[26]=18\n",
        "errdic[27]=19\n",
        "errdic[30]=20\n",
        "errdic[31]=21\n",
        "errdic[32]=22\n",
        "errdic[33]=23\n",
        "errdic[34]=24\n",
        "errdic[36]=25\n",
        "errdic[38]=26\n",
        "errdic[39]=27\n",
        "errdic[40]=28\n",
        "errdic[41]=29\n",
        "errdic[42]=30\n",
        "print(errdic)\n",
        "print(errdic[8])\n",
        "a=29\n",
        "if (a in errdic):\n",
        "    print(errdic[a])"
      ],
      "execution_count": null,
      "outputs": [
        {
          "output_type": "stream",
          "text": [
            "{1: 0, 2: 1, 3: 2, 4: 3, 5: 4, 6: 5, 8: 6, 9: 7, 10: 8, 13: 9, 14: 10, 15: 11, 17: 12, 18: 13, 19: 14, 22: 15, 24: 16, 25: 17, 26: 18, 27: 19, 30: 20, 31: 21, 32: 22, 33: 23, 34: 24, 36: 25, 38: 26, 39: 27, 40: 28, 41: 29, 42: 30}\n",
            "6\n"
          ],
          "name": "stdout"
        }
      ]
    },
    {
      "cell_type": "code",
      "metadata": {
        "colab": {
          "base_uri": "https://localhost:8080/"
        },
        "id": "c6ThS7BVBrJk",
        "outputId": "804a1b85-8339-4462-f630-f1c32b8aaeea"
      },
      "source": [
        "st='04.33.1149'\n",
        "la=st.split(\".\")\n",
        "print(la)\n",
        "for i in la:\n",
        "    if( int(i) ==10):\n",
        "        print(int(i)*100)\n",
        "        break\n",
        "    print(int(i))\n",
        "\n",
        "def fwwitherr(fwv,errt):\n",
        "    la=fwv.split(\".\")\n",
        "    sum=0\n",
        "    for i in range(len(la)):\n",
        "        if i==2:\n",
        "            return sum*100+errt\n",
        "        if( int(la[i]) == 10 and i==0):\n",
        "            return 10000+errt\n",
        "        sum+= int(la[i])* (100**(1-i))\n",
        "        \n",
        "    return sum*100+errt\n",
        "def fwint(fwv):\n",
        "    la=fwv.split(\".\")\n",
        "    return int(la[0])\n",
        "print(fwwitherr(st,42))\n",
        "print(fwint(st))"
      ],
      "execution_count": null,
      "outputs": [
        {
          "output_type": "stream",
          "text": [
            "['04', '33', '1149']\n",
            "4\n",
            "33\n",
            "1149\n",
            "43342\n",
            "4\n"
          ],
          "name": "stdout"
        }
      ]
    },
    {
      "cell_type": "code",
      "metadata": {
        "id": "32SimWRLbAPd"
      },
      "source": [
        "import itertools\n",
        "a=[0,0.1,0.2,0.3,0.4,0.5,0.6,0.7,0.8,0.9,1]\n",
        "npr=itertools.permutations(a,3)\n",
        "ac=list(npr)\n",
        "#print(len(ac)) 990개 색깔\n",
        "#plt.plot([1,2,3,4],c=ac[989])\n"
      ],
      "execution_count": null,
      "outputs": []
    },
    {
      "cell_type": "code",
      "metadata": {
        "colab": {
          "base_uri": "https://localhost:8080/"
        },
        "id": "6jq12X7ONRLb",
        "outputId": "1bdb3876-a586-4c9a-b3bc-fb18eb0c583e"
      },
      "source": [
        "train_qual = pd.read_csv(PATH+'train_quality_data.csv',thousands=',')\n",
        "train_qual['datetime'] = train_qual['time'].apply(make_datetime)\n",
        "\n",
        "id_qual=train_qual[['user_id','datetime','fwver','quality_0','quality_1','quality_2','quality_3','quality_4','quality_5','quality_6','quality_7','quality_8','quality_9','quality_10','quality_11','quality_12']].values\n",
        "qualili=np.zeros((15000,14))\n",
        "cnt=0\n",
        "\n",
        "curuser=10000\n",
        "cnt=0\n",
        "#qualist=([10000,10000,10000,10000,10000,10000,10000,10000,10000,10000,10000,10000,10000,-500,-500,-500,-500,-500,-500,-500,-500,-500,-500,-500,-500,-500])*15000\n",
        "qualist=np.zeros((15000,26))\n",
        "for i in qualist:\n",
        "    for j in range(13):\n",
        "        i[j]=100000000\n",
        "    for j in range(13,26):\n",
        "        i[j]=-500\n",
        "\n",
        "min=1000000000\n",
        "max=-500\n",
        "for j in tqdm(id_qual):\n",
        "    if curuser==j[0]:\n",
        "        for i in range(3,16):\n",
        "          if( qualist[curuser-10000][i-3]>j[i]):\n",
        "              qualist[curuser-10000][i-3]=j[i]\n",
        "          elif (qualist[curuser-10000][i-3+13]<j[i]):\n",
        "              qualist[curuser-10000][i-3+13]=j[i]\n",
        "    else:\n",
        "        curuser=j[0]\n",
        "        for i in range(3,16):\n",
        "          if( qualist[curuser-10000][i-3]>j[i]):\n",
        "              qualist[curuser-10000][i-3]=j[i]\n",
        "          elif (qualist[curuser-10000][i-3+13]<j[i]):\n",
        "              qualist[curuser-10000][i-3+13]=j[i]\n",
        "\n",
        "#for user,dat,fw,q0,q1,q2,q3,q4,q5,q6,q7,q8,q9,q10,q11,q12 in tqdm(id_qual):\n",
        "print(curuser)\n",
        "newqualist=np.zeros((15000,13))\n",
        "for i in range(15000):\n",
        "    for j in range(13):\n",
        "        if (qualist[i][j+13]-qualist[i][j] <-5000): #초기값\n",
        "            continue\n",
        "        else:\n",
        "            newqualist[i][j]=qualist[i][j+13]-qualist[i][j]\n",
        "\n",
        "   \n",
        "\n"
      ],
      "execution_count": null,
      "outputs": [
        {
          "output_type": "stream",
          "text": [
            "100%|██████████| 828624/828624 [00:14<00:00, 55493.73it/s]\n"
          ],
          "name": "stderr"
        },
        {
          "output_type": "stream",
          "text": [
            "24997\n"
          ],
          "name": "stdout"
        }
      ]
    },
    {
      "cell_type": "code",
      "metadata": {
        "colab": {
          "base_uri": "https://localhost:8080/"
        },
        "id": "JVJeNmWhQIMU",
        "outputId": "775d7d56-3d03-4918-cd2b-34e7f64d8295"
      },
      "source": [
        "person,timeid=id_qual[0][0],id_qual[0][1]\n",
        "person,timeid\n",
        "print(person,timeid)\n",
        "ab=[]\n",
        "#print(id_errtime[0],id_errtime[500])# 10000 번째, 10001번쨰 두명있네.\n",
        "curuser=10000\n",
        "first=0\n",
        "last=0\n",
        "cnt=0\n",
        "idqualarr=[]\n",
        "for user,dat,fw,q0,q1,q2,q3,q4,q5,q6,q7,q8,q9,q10,q11,q12 in tqdm(id_qual):\n",
        "    if (curuser==user):\n",
        "        last=cnt\n",
        "    else:\n",
        "        li=[]\n",
        "        li.append(first)\n",
        "        li.append(last)        \n",
        "        idqualarr.append(li)\n",
        "        ab.append(curuser)\n",
        "        for i in range(curuser+1,user):\n",
        "            idqualarr.append([])\n",
        "            ab.append(i)\n",
        "        first=cnt\n",
        "        curuser=user\n",
        "    cnt+=1\n",
        "li=[]\n",
        "li.append(first)\n",
        "li.append(last)\n",
        "idqualarr.append(li)\n",
        "idqualarr.append([])\n",
        "idqualarr.append([])\n",
        "\n",
        "\n"
      ],
      "execution_count": null,
      "outputs": [
        {
          "output_type": "stream",
          "text": [
            "  7%|▋         | 54863/828624 [00:00<00:01, 548629.22it/s]"
          ],
          "name": "stderr"
        },
        {
          "output_type": "stream",
          "text": [
            "10000 2020-11-29 09:00:00\n"
          ],
          "name": "stdout"
        },
        {
          "output_type": "stream",
          "text": [
            "100%|██████████| 828624/828624 [00:01<00:00, 597621.75it/s]\n"
          ],
          "name": "stderr"
        }
      ]
    },
    {
      "cell_type": "code",
      "metadata": {
        "colab": {
          "base_uri": "https://localhost:8080/"
        },
        "id": "VIBwInU9heXI",
        "outputId": "ff10d57e-8cc0-4f43-8b39-78ec2838de84"
      },
      "source": [
        "li5=['B-A8002', 'Q-64002', 'S-61001', 'U-81009', 'V-21008', '700001', 'S-64002', 'J-30021', 'S-65002', 'Q-64001', 'H-51042', 'C-11017', 'H-51046', 'H-51049', 'V-21002', 'V-21003', 'V-21004', 'V-21005', 'B-51042', 'M-99999', 'U-82024', 'H-51048', '60045', 'U-82026', 'C-13053', 'En00409']\n",
        "len(li5)"
      ],
      "execution_count": null,
      "outputs": [
        {
          "output_type": "execute_result",
          "data": {
            "text/plain": [
              "26"
            ]
          },
          "metadata": {
            "tags": []
          },
          "execution_count": 12
        }
      ]
    },
    {
      "cell_type": "code",
      "metadata": {
        "id": "UtMkUppVlCK3",
        "colab": {
          "base_uri": "https://localhost:8080/"
        },
        "outputId": "dddbb8df-1865-4c5f-e176-e6c9178ff081"
      },
      "source": [
        "# user_id와 errtype만을 사용하여 데이터 셋 생성\n",
        "# 모든 일자에 대해서 errtype별 발생 건수를 count\n",
        "# pandas의 groupby를 활용할 경우 큰 연산 자원이 필요.\n",
        "# numpy로 placeholder를 만들어 구현함.\n",
        "import copy\n",
        "id_error = train_err[['user_id','datetime','fwver','errtype','errcode']].values\n",
        "error = np.zeros((train_user_number,152)) #15000,42 의 0배열 생성.\n",
        "#errorreduc=np.zeros((train_user_number,32))\n",
        "minnum=317\n",
        "curuser=10000\n",
        "#errstrli=np.zeros((train_user_number,1),dtype=\"object\")\n",
        "\n",
        "#errli=np.empty((train_user_number,1),dtype=\"object\")\n",
        "sum=0\n",
        "allnum=0\n",
        "color=0\n",
        "temp=[]\n",
        "#usid,dtime,fw,erty,errco\n",
        "cnt=0\n",
        "li16=['80', '79', '81', '78', '85', '84', '90', '89', '88', '95', '94', '91', '83', '86', '87', '82', '93', '77', '75', '76', '96', '92', '100']\n",
        "li5=['B-A8002', 'Q-64002', 'S-61001', 'U-81009', 'V-21008', '700001', 'S-64002', 'J-30021', 'S-65002', 'Q-64001', 'H-51042', 'C-11017', 'H-51046', 'H-51049', 'V-21002', 'V-21003', 'V-21004', 'V-21005', 'B-51042', 'M-99999', 'U-82024', 'H-51048', '60045', 'U-82026', 'C-13053', 'En00409']\n",
        "\n",
        "for person_idx,dtime,fw,err,errco in tqdm(id_error):\n",
        "    #print(person_idx)\n",
        "    if err==23:\n",
        "        if errco.strip() in ['standby']:\n",
        "            error[person_idx-train_user_id_min,42]+=1\n",
        "        elif errco.strip() in ['connection fail to establish']:\n",
        "            error[person_idx-train_user_id_min,28]+=1\n",
        "        elif errco.strip() in ['connection timeout']:\n",
        "            error[person_idx-train_user_id_min,43]+=1\n",
        "        elif errco.strip() in ['active']:\n",
        "            error[person_idx-train_user_id_min,44]+=1\n",
        "        elif errco.strip() in ['connectionterminated by local host']:\n",
        "            error[person_idx-train_user_id_min,45]+=1\n",
        "        elif errco.strip() in ['terminate by peer user']:\n",
        "            error[person_idx-train_user_id_min,46]+=1\n",
        "    elif err==31:\n",
        "        if str(errco).strip() in ['1']:\n",
        "            error[person_idx-train_user_id_min,47]+=1\n",
        "        if str(errco).strip() in ['0']:\n",
        "            error[person_idx-train_user_id_min,48]+=1\n",
        "    elif err==4:\n",
        "        if str(errco).strip() in ['0']:\n",
        "            error[person_idx-train_user_id_min,49]+=1\n",
        "        elif str(errco).strip() in ['1']:\n",
        "            error[person_idx-train_user_id_min,50]+=1\n",
        "    elif err==40:\n",
        "        if str(errco).strip() in ['0']:\n",
        "            error[person_idx-train_user_id_min,51]+=1\n",
        "        elif str(errco).strip() in ['1']:\n",
        "            error[person_idx-train_user_id_min,52]+=1\n",
        "    elif err==1:\n",
        "        if str(errco).strip() in ['0']:\n",
        "            error[person_idx-train_user_id_min,53]+=1\n",
        "        elif str(errco).strip() in ['1']:\n",
        "            error[person_idx-train_user_id_min,54]+=1\n",
        "    if err==33:\n",
        "        if str(errco).strip() in ['2']:\n",
        "            error[person_idx-train_user_id_min,55]+=1\n",
        "        elif str(errco).strip() in ['3']:\n",
        "            error[person_idx-train_user_id_min,56]+=1\n",
        "        elif str(errco).strip() in ['1']:\n",
        "            error[person_idx-train_user_id_min,57]+=1\n",
        "    if err==14:\n",
        "        if str(errco).strip() in ['13']:\n",
        "            error[person_idx-train_user_id_min,58]+=1\n",
        "        elif str(errco).strip() in ['14']:\n",
        "            error[person_idx-train_user_id_min,59]+=1\n",
        "        elif str(errco).strip() in ['1']:\n",
        "            error[person_idx-train_user_id_min,60]+=1\n",
        "    elif err==16: #['80', '79', '81', '78', '85', '84', '90', '89', '88', '95', '94', '91', '83', '86', '87', '82', '93', '77', '75', '76', '96', '92', '100'\n",
        "        for idx,val in enumerate(li16):\n",
        "            if str(errco).strip()==val:\n",
        "                error[person_idx-train_user_id_min,61+idx]+=1\n",
        "                break\n",
        "    elif err==5:\n",
        "        for idx,val in enumerate(li5):\n",
        "            if str(errco).strip()==val:\n",
        "                error[person_idx-train_user_id_min,126+idx]+=1\n",
        "                break\n",
        "    if(curuser==person_idx):\n",
        "        temp.append(fw)\n",
        "    else:\n",
        "        if(len(Counter(temp).keys()) >1):\n",
        "            error[person_idx-train_user_id_min,84]+=1\n",
        "        error[person_idx-train_user_id_min,85]=fwint(temp[0])\n",
        "        temp=[]\n",
        "        curuser=person_idx\n",
        "        temp.append(fw)\n",
        "        \n",
        "    \n",
        "    error[person_idx - train_user_id_min,err - 1] += 1\n",
        "\n",
        "    # person_idx - train_user_id_min 위치에 person_idx, errtype에 해당하는 error값을 +1  그래서 [사람idx,error type] 번째에 +=1 되는건데, errtype이 1~42니까 -1 해서 errtype의 min은 0번부터시작, person도 0번부터 시작\n",
        "if(len(Counter(temp).keys()) >1):\n",
        "    error[person_idx-train_user_id_min,84]+=1\n",
        "error[person_idx-train_user_id_min,85]=fwint(temp[0])\n",
        "\n",
        "\n",
        "\n",
        "\n",
        "        \n",
        "\n",
        "# 이말인즉슨, 1 row에 err type 0 이 몇회 발생 , 1이 몇회발생 ~~~\n"
      ],
      "execution_count": null,
      "outputs": [
        {
          "output_type": "stream",
          "text": [
            "100%|██████████| 16554663/16554663 [00:52<00:00, 314414.59it/s]\n"
          ],
          "name": "stderr"
        }
      ]
    },
    {
      "cell_type": "code",
      "metadata": {
        "colab": {
          "base_uri": "https://localhost:8080/",
          "height": 53
        },
        "id": "v_IqhjEUEeef",
        "outputId": "bb3860be-c87b-434f-d46c-1a794265982b"
      },
      "source": [
        "#qualstd=np.zeros((15000,26)) #0~12 은 mean, 13~25는 std\n",
        "max=-1\n",
        "li2=np.arange(0,13,1)\n",
        "for i in range(15000):\n",
        "    if idqualarr[i]!=[]:\n",
        "        first,last=idqualarr[i]\n",
        "        meanarr=np.zeros((last+1-first,13))\n",
        "        cindex=0\n",
        "        for j in range(first,last+1):\n",
        "            qualval=id_qual[j]\n",
        "            for k in range(3,16):\n",
        "              meanarr[cindex,k-3]=qualval[k]\n",
        "            cindex+=1\n",
        "        df=pd.DataFrame(meanarr,columns=li2)\n",
        "        listd=df.std()\n",
        "        limean=df.mean()\n",
        "        for j in range(0,13):\n",
        "            error[i,99+j]=limean[j]\n",
        "            error[i,99+j+13]=listd[j]\n",
        "            #qualstd[i,j]=limean[j]\n",
        "            #qualstd[i,j+13]=listd[j]\n",
        "for i in range(15000):\n",
        "    for j in range(13):\n",
        "        error[i,86+j]=newqualist[i,j]\n",
        "\n",
        "    #for i in range(first,last+1):\n",
        "#newqualist=np.zeros((15000,13))\n",
        "'''\n",
        "li1=np.arange(0,86,1)\n",
        "print(li1)\n",
        "df=pd.DataFrame(error,columns=li1)\n",
        "temp=df.std()\n",
        "temp[0],temp[1]-1\n",
        "23\n",
        "95\n",
        "143\n",
        "227\n",
        "983\n",
        "1667\n",
        "2099\n",
        "2903\n",
        "2963\n",
        "3503\n",
        "4223\n",
        "'''\n",
        "#del df"
      ],
      "execution_count": null,
      "outputs": [
        {
          "output_type": "execute_result",
          "data": {
            "application/vnd.google.colaboratory.intrinsic+json": {
              "type": "string"
            },
            "text/plain": [
              "'\\nli1=np.arange(0,86,1)\\nprint(li1)\\ndf=pd.DataFrame(error,columns=li1)\\ntemp=df.std()\\ntemp[0],temp[1]-1\\n23\\n95\\n143\\n227\\n983\\n1667\\n2099\\n2903\\n2963\\n3503\\n4223\\n'"
            ]
          },
          "metadata": {
            "tags": []
          },
          "execution_count": 14
        }
      ]
    },
    {
      "cell_type": "code",
      "metadata": {
        "colab": {
          "base_uri": "https://localhost:8080/"
        },
        "id": "gKT_CPFxga15",
        "outputId": "d1362452-ebb3-4c5f-fcdd-31a2b0d6abe0"
      },
      "source": [
        "df.max()"
      ],
      "execution_count": null,
      "outputs": [
        {
          "output_type": "execute_result",
          "data": {
            "text/plain": [
              "0      0.0\n",
              "1      0.0\n",
              "2      0.0\n",
              "3      0.0\n",
              "4      0.0\n",
              "5      9.0\n",
              "6      0.0\n",
              "7      0.0\n",
              "8      0.0\n",
              "9      0.0\n",
              "10    17.0\n",
              "11     0.0\n",
              "12     0.0\n",
              "dtype: float64"
            ]
          },
          "metadata": {
            "tags": []
          },
          "execution_count": 15
        }
      ]
    },
    {
      "cell_type": "markdown",
      "metadata": {
        "id": "bw58YmRzlCK4"
      },
      "source": [
        "## 2.2 problem"
      ]
    },
    {
      "cell_type": "code",
      "metadata": {
        "id": "jIjJk8OMlCK4",
        "colab": {
          "base_uri": "https://localhost:8080/",
          "height": 53
        },
        "outputId": "ab4ad60d-0374-4e7f-e17f-e06772864e31"
      },
      "source": [
        "train_prob = pd.read_csv(PATH+'train_problem_data.csv')\n",
        "\n",
        "problem = np.zeros(15000)\n",
        "newproblem=np.zeros(15000)\n",
        "# error와 동일한 방법으로 person_idx - 10000 위치에 \n",
        "# person_idx의 problem이 한 번이라도 발생했다면 1\n",
        "# 없다면 0   문제가 하나도 없었던 사람은 0이야.\n",
        "problem[train_prob.user_id.unique()-10000] = 1   \n",
        "problem.shape\n",
        "max=0\n",
        "prob=train_prob[['user_id']].values\n",
        "for i in prob:\n",
        "    newproblem[i-10000]+=1\n",
        "print(np.max(newproblem))\n",
        "\n",
        "'''\n",
        "    if(max<problem[i]):\n",
        "        max=problem[i]\n",
        "        print(i,max)\n",
        "'''\n",
        "        "
      ],
      "execution_count": null,
      "outputs": [
        {
          "output_type": "stream",
          "text": [
            "5.0\n"
          ],
          "name": "stdout"
        },
        {
          "output_type": "execute_result",
          "data": {
            "application/vnd.google.colaboratory.intrinsic+json": {
              "type": "string"
            },
            "text/plain": [
              "'\\n    if(max<problem[i]):\\n        max=problem[i]\\n        print(i,max)\\n'"
            ]
          },
          "metadata": {
            "tags": []
          },
          "execution_count": 16
        }
      ]
    },
    {
      "cell_type": "code",
      "metadata": {
        "id": "aSxU8GWlbjeU"
      },
      "source": [
        "#problem 개수\n",
        "cntmy=[0]*15000#cntmy는 problem이 한명당 최대 5번까지 있을 수 있으니까, 해당 user가 처음으로 문제가 발견되었을 땐\n",
        "#timeprob[userid][0] 번째에 넣어야하고, 2번째로 문제제기 했을땐 timeprob[userid][1] 번째에 넣어야 하고, 또 발견되면 2번째에 넣어야하고\n",
        "#하기 때문에 필요함\n",
        "\n",
        "train_prob.shape # (5429,2)\n",
        "timeprob=np.zeros((15000,5,7),dtype=\"object\")#15000명이있고, 한명당 최대 5번의 problem을 제기한적이 있다. \n",
        "#각 problem당, [[problem이 일어난시간],[problem이 일어난시간 +1시간 전까지 일어난 err 의 시간 리스트], \n",
        "#                [해당 errtype들 리스트], [해당 errcode들 리스트], [해당 err의 fwver 리스트]\n",
        "#               ]\n",
        "train_prob['datetime'] = train_prob['time'].apply(make_datetime)\n",
        "id_probl = train_prob[['user_id','datetime']].values\n",
        "#id_errtime=train_err[['user_id','datetime','fwver','errtype','errcode']].values\n",
        "\n"
      ],
      "execution_count": null,
      "outputs": []
    },
    {
      "cell_type": "code",
      "metadata": {
        "id": "QdfD24JaTkVh"
      },
      "source": [
        "idarr #[0,316], [317,2681]\n",
        "print(id_errtime[0],id_errtime[316],id_errtime[317],id_errtime[2681],id_errtime[2682])\n",
        "#위의 코드는 이것과같이 userid 0번(실제론 uid==10000 인 사람)이 train_err.csv의 몇번째 index부터 몇번째 index까지 있는지\n",
        "\n",
        "#idarr의 0번째항은 [0,316]이야. 즉 id_errtime[0]~id_errtime[316]까지는 모두 userid==10000의 data\n",
        "# 1번째항은 [317,2681] 이니까 즉 id_errtime 317  ~~ 2681 까지는 모두 userid == 10001의 data인거"
      ],
      "execution_count": null,
      "outputs": []
    },
    {
      "cell_type": "code",
      "metadata": {
        "id": "IWns5_yLMDEC",
        "colab": {
          "base_uri": "https://localhost:8080/"
        },
        "outputId": "54f34b39-5274-49e4-efa5-1c2a6fea52fc"
      },
      "source": [
        "a=0\n",
        "person,timeid=id_probl[a]\n",
        "print(person,timeid)\n",
        "ab=[]\n",
        "#print(id_errtime[0],id_errtime[500])# 10000 번째, 10001번쨰 두명있네.\n",
        "curuser=10000\n",
        "first=0\n",
        "last=0\n",
        "cnt=0\n",
        "idarr=[]\n",
        "for uid,dtime,fw,errty,errco in tqdm(id_error):\n",
        "    if (curuser==uid):\n",
        "        last=cnt\n",
        "    else:\n",
        "        li=[]\n",
        "        li.append(first)\n",
        "        li.append(last)\n",
        "        idarr.append(li)\n",
        "        first=cnt\n",
        "        curuser=uid\n",
        "    cnt+=1\n",
        "li=[]\n",
        "li.append(first)\n",
        "li.append(last)\n",
        "idarr.append(li)\n",
        "\n",
        "\n"
      ],
      "execution_count": null,
      "outputs": [
        {
          "output_type": "stream",
          "text": [
            "  0%|          | 76517/16554663 [00:00<00:21, 765167.08it/s]"
          ],
          "name": "stderr"
        },
        {
          "output_type": "stream",
          "text": [
            "19224 2020-11-02 20:00:00\n"
          ],
          "name": "stdout"
        },
        {
          "output_type": "stream",
          "text": [
            "100%|██████████| 16554663/16554663 [00:20<00:00, 801545.27it/s]\n"
          ],
          "name": "stderr"
        }
      ]
    },
    {
      "cell_type": "code",
      "metadata": {
        "id": "UNATU9FZoj1H",
        "colab": {
          "base_uri": "https://localhost:8080/"
        },
        "outputId": "9dc41583-0ce8-4013-e9a3-6ab9998aebd7"
      },
      "source": [
        "cnt=0\n",
        "cntmy=[0]*15000\n",
        "plotli=[]\n",
        "sn=0\n",
        "sum=0\n",
        "timeerror=3 #+-12시간\n",
        "for person_idx, timeid in tqdm(id_probl):\n",
        "    cntmy[person_idx-10000]+=1\n",
        "    cnt+=1\n",
        "    #print(person_idx,timeid)\n",
        "    tili=[]#timelist\n",
        "    tyli=[]#typelist\n",
        "    coli=[]#codelist\n",
        "    fwli=[]#fwverlist\n",
        "    haschanged=[]\n",
        "    qualitylist=[]\n",
        "    if idqualarr[person_idx-10000]!=[]:\n",
        "        first,last=idqualarr[person_idx-10000]\n",
        "        meanarr=np.zeros((last+1-first,13))\n",
        "        cindex=0\n",
        "        for j in range(first,last+1):\n",
        "            qualval=id_qual[j]\n",
        "            dtime=qualval[1]\n",
        "            if( timeid+datetime.timedelta(hours=timeerror*-1) <=dtime<= timeid+datetime.timedelta(hours=timeerror)):\n",
        "                for k in range(3,16):\n",
        "                  meanarr[cindex,k-3]=qualval[k]\n",
        "            cindex+=1\n",
        "        df=pd.DataFrame(meanarr,columns=li2)\n",
        "        listd=df.std()\n",
        "        limean=df.mean()\n",
        "        limax=df.max()\n",
        "        limin=df.min()\n",
        "        for k in range(0,13):\n",
        "            qualitylist.append(limax[k]-limin[k])\n",
        "        for k in range(0,13):\n",
        "            qualitylist.append(limean[k])\n",
        "        for k in range(0,13):\n",
        "            qualitylist.append(listd[k])\n",
        "    first,last =idarr[person_idx-10000]#위에서 만든 idarr로 어디서부터 어디까지가 해당 user인지 알 수 있어\n",
        "    for i in range(first,last+1):\n",
        "        uid,dtime,fw,errty,errco = id_error[i] \n",
        "        if( timeid+datetime.timedelta(hours=timeerror*-1) <=dtime<= timeid+datetime.timedelta(hours=timeerror)):\n",
        "            tili.append(dtime)\n",
        "            tyli.append(errty)\n",
        "            coli.append(errco)\n",
        "            fwli.append(fw)\n",
        "            # 문제가 제기된 시간 +2시간 이내의 모든 errtype모음 왜 1시간이냐구? 데이터 불러올때 분이랑 초를 다 날려먹었기때문\n",
        "    if(len(Counter(fwli).keys())>1):\n",
        "        haschanged.append(1)\n",
        "    else:\n",
        "        haschanged.append(0)\n",
        "    tim=[]\n",
        "    tim.append(timeid)\n",
        "    timeprob[person_idx-10000,cntmy[person_idx-10000]-1,0]=tim #같은 사용자가 여러번 problem을 냈을 수 있다. 0번째는 그 problem시간\n",
        "    timeprob[person_idx-10000,cntmy[person_idx-10000]-1,1]=tili#err시간\n",
        "    timeprob[person_idx-10000,cntmy[person_idx-10000]-1,2]=tyli#errtype\n",
        "    timeprob[person_idx-10000,cntmy[person_idx-10000]-1,3]=coli#errcode\n",
        "    timeprob[person_idx-10000,cntmy[person_idx-10000]-1,4]=fwli#firmware\n",
        "    timeprob[person_idx-10000,cntmy[person_idx-10000]-1,5]=haschanged\n",
        "    timeprob[person_idx-10000,cntmy[person_idx-10000]-1,6]=qualitylist#newqualist,mean,std\n",
        "\n",
        "print(sum)\n",
        "#print(tim,tili,tyli,coli)\n",
        "    "
      ],
      "execution_count": null,
      "outputs": [
        {
          "output_type": "stream",
          "text": [
            "100%|██████████| 5429/5429 [01:05<00:00, 83.30it/s]"
          ],
          "name": "stderr"
        },
        {
          "output_type": "stream",
          "text": [
            "0\n"
          ],
          "name": "stdout"
        },
        {
          "output_type": "stream",
          "text": [
            "\n"
          ],
          "name": "stderr"
        }
      ]
    },
    {
      "cell_type": "markdown",
      "metadata": {
        "id": "ZwImpupq9wyb"
      },
      "source": [
        "#2.222테스트"
      ]
    },
    {
      "cell_type": "markdown",
      "metadata": {
        "id": "poFuLrGRUA_u"
      },
      "source": [
        "####그래프찍어보기"
      ]
    },
    {
      "cell_type": "code",
      "metadata": {
        "id": "awx1_tlQT8Iz"
      },
      "source": [
        "import itertools #이게 색깔 다양하게 만들어내는 코드\n",
        "a=[0,0.1,0.2,0.3,0.4,0.5,0.6,0.7,0.8,0.9,1] #이렇게 RGB는 (0~1,0~1,0~1) 의 튜플? 로 표현해야하는데 \n",
        "npr=itertools.permutations(a,3) #이 permutation으로 하면 990개 색깔을 만들어낼 수 있어.\n",
        "ac=list(npr)\n",
        "#print(len(ac)) 990개 색깔\n",
        "plt.plot([1,2,3,4],c=ac[989]) # 이 color에 RGB값을 넣어줄거야\n",
        "plt.show()\n",
        "\n",
        "print(train_err.fwver.unique())"
      ],
      "execution_count": null,
      "outputs": []
    },
    {
      "cell_type": "code",
      "metadata": {
        "id": "3kqnsZ7GUAeo"
      },
      "source": [
        "cnt=0\n",
        "cindex=0\n",
        "for uid in range(15000):\n",
        "    cnt+=1\n",
        "    for j in range(5):\n",
        "        if (type(timeprob[uid][j][0]) == type(0)):#데이터없을때\n",
        "            break\n",
        "        else:\n",
        "            #t1=np.arange(0,len(timeprod[uid][j][2])) #2: errtype, 3: errcode 4: fwver\n",
        "            plotli=[] #errtype들을 담아줄 리스트\n",
        "            for fw in range(len(timeprob[uid][j][4])) :\n",
        "                if ( timeprob[uid][j][4][fw] == '05.15.2138'): \n",
        "                    plotli.append(timeprob[uid][j][2][fw]) #errtype을 리스트에 담는다\n",
        "            if (len(plotli)==0):\n",
        "                continue\n",
        "            else:\n",
        "                if (len(plotli)>30): # 임의로 길이가 30개보다 긴 리스트는 그냥 표시 안하기\n",
        "                    continue\n",
        "                t1=np.arange(0,len(plotli)) # np.arange(0,10) 하면 [0,1,2,...,9인가 10인가] 만들어진대\n",
        "                #print(plotli,t1)\n",
        "                plt.scatter(t1,plotli,c=ac[cindex%990]) #색깔을 담아놓자 x축은 그냥 0~errtype개수, plotli에는 errtype값\n",
        "                #plt.plot(t1,plotli,c=ac[cindex%990]) #주석을 해제하면 위의 점끼리 연결된 그래프가 된대\n",
        "                cindex+=1\n",
        "plt.show()\n",
        "                "
      ],
      "execution_count": null,
      "outputs": []
    },
    {
      "cell_type": "code",
      "metadata": {
        "colab": {
          "base_uri": "https://localhost:8080/"
        },
        "id": "8W3-Tp33MI5z",
        "outputId": "0ec91fda-85b9-4762-9583-26a58f8f31ad"
      },
      "source": [
        "li=np.zeros(42)\n",
        "for i in range(15000):\n",
        "    for j in range(cntmy[i]):\n",
        "        errt=timeprob[i][j][2]\n",
        "        errc=timeprob[i][j][3]\n",
        "        for idx,val in enumerate(errt):\n",
        "            li[val-1]+=1\n",
        "for i,val in enumerate(li):\n",
        "    print( \"<\"+str(i)+\">\",val ,end=\" \")\n"
      ],
      "execution_count": null,
      "outputs": [
        {
          "output_type": "stream",
          "text": [
            "<0> 72.0 <1> 63.0 <2> 379.0 <3> 6536.0 <4> 5959.0 <5> 1860.0 <6> 1890.0 <7> 0.0 <8> 1.0 <9> 1180.0 <10> 2905.0 <11> 3562.0 <12> 1393.0 <13> 4152.0 <14> 9581.0 <15> 10103.0 <16> 445.0 <17> 703.0 <18> 149.0 <19> 538.0 <20> 129.0 <21> 11692.0 <22> 14554.0 <23> 277.0 <24> 211.0 <25> 2714.0 <26> 8062.0 <27> 8062.0 <28> 0.0 <29> 161.0 <30> 17176.0 <31> 4202.0 <32> 1638.0 <33> 5837.0 <34> 931.0 <35> 149.0 <36> 151.0 <37> 161.0 <38> 295.0 <39> 6660.0 <40> 1318.0 <41> 10.0 "
          ],
          "name": "stdout"
        }
      ]
    },
    {
      "cell_type": "code",
      "metadata": {
        "id": "sUQjauQ8gP23"
      },
      "source": [
        "#id_error = train_err[['user_id','datetime','fwver','errtype','errcode']].values"
      ],
      "execution_count": null,
      "outputs": []
    },
    {
      "cell_type": "code",
      "metadata": {
        "colab": {
          "base_uri": "https://localhost:8080/",
          "height": 677
        },
        "id": "R4YUSZSub8wF",
        "outputId": "1c92ef4c-526d-4c58-ade7-ecb5bd46af27"
      },
      "source": [
        "plotli2=[] #problem없는\n",
        "\n",
        "ERRTYP=5\n",
        "sum=0\n",
        "for i in range(15000):\n",
        "    if (cntmy[i]>0):\n",
        "        sum+=1\n",
        "        continue\n",
        "    else:\n",
        "        first,last =idarr[i]\n",
        "        for i in range(first,last+1):\n",
        "            uid,dtime,fw,errty,errco = id_error[i]\n",
        "            if errty==ERRTYP:\n",
        "                    plotli2.append(errco)\n",
        "print(sum)\n",
        "sum=0\n",
        "plotli=[] #problem있는\n",
        "for i in range(15000):\n",
        "    for j in range(cntmy[i]):\n",
        "        sum+=1\n",
        "        errt=timeprob[i][j][2]\n",
        "        errc=timeprob[i][j][3]\n",
        "        #print(errt)\n",
        "        for idx,val in enumerate(errt):\n",
        "            if val==ERRTYP:\n",
        "                plotli.append(errc[idx])\n",
        "print(\"errortype=\",ERRTYP)\n",
        "print(\"no problem\",sum)\n",
        "for i,val in enumerate(plotli):\n",
        "    plotli[i]=val.strip()\n",
        "for i,val in enumerate(plotli2):\n",
        "    plotli2[i]=str(val).strip()    \n",
        "print(\"problem O\")\n",
        "t1=np.arange(0,len(plotli))\n",
        "plt.scatter(t1,plotli)\n",
        "plt.show()\n",
        "print(len(plotli),len(plotli2))\n",
        "t2=np.arange(0,len(plotli2))\n",
        "plt.scatter(t2,plotli2)\n",
        "plt.show()\n",
        "\n",
        "\n",
        "#words = ['a', 'b', 'c', 'a']\n",
        "\n",
        "#Counter(words).keys() # equals to list(set(words))\n",
        "#Counter(words).values() # counts the elements' frequency\n",
        "Counter(plotli2).keys() # equals to list(set(words))\n",
        "Counter(plotli2).values() # counts the elements' frequency\n",
        "print(Counter(plotli2).keys())\n",
        "print(Counter(plotli).values())\n",
        "print(Counter(plotli2).values())"
      ],
      "execution_count": null,
      "outputs": [
        {
          "output_type": "stream",
          "text": [
            "5000\n",
            "errortype= 5\n",
            "no problem 5429\n",
            "problem O\n"
          ],
          "name": "stdout"
        },
        {
          "output_type": "display_data",
          "data": {
            "image/png": "[encoded data removed]",
            "text/plain": [
              "<Figure size 432x288 with 1 Axes>"
            ]
          },
          "metadata": {
            "tags": [],
            "needs_background": "light"
          }
        },
        {
          "output_type": "stream",
          "text": [
            "5959 528955\n"
          ],
          "name": "stdout"
        },
        {
          "output_type": "display_data",
          "data": {
            "image/png": "[encoded data removed]",
            "text/plain": [
              "<Figure size 432x288 with 1 Axes>"
            ]
          },
          "metadata": {
            "tags": [],
            "needs_background": "light"
          }
        },
        {
          "output_type": "stream",
          "text": [
            "dict_keys(['Q-64002', 'S-61001', 'B-A8002', 'U-81009', 'J-30021', 'S-65002', 'Q-64001', 'H-51042', 'C-11017', 'H-51046', 'S-64002', 'V-21002', '700001', 'V-21003', 'V-21004', 'V-21005', 'V-21008', 'B-51042', 'H-51048', '60045', 'H-51049', 'U-82026', 'C-13053', 'C-14014', 'V-21010', 'S-64000', 'M-99999', 'Q-73004', 'U-82023', 'Q-73006', 'Y-00008', 'S-65', 'S-64001', 'Y-00005', 'J-40011', 'C-12032', 'D-99999', 'En00402', 'M-51007', 'C-11020', 'V-21007', 'J-30010', 'E-59902', 'M-51020', 'U-82004', 'U-81000', 'B-51049', 'U-82020', 'U-82024', 'P_41001', '0001'])\n",
            "dict_values([267, 5435, 4, 3, 8, 1, 85, 59, 20, 40, 17, 4, 1, 1, 1, 2, 6, 1, 1, 2, 1])\n",
            "dict_values([9042, 18694, 496804, 6, 339, 1120, 144, 371, 104, 61, 56, 30, 212, 4, 9, 42, 276, 76, 3, 6, 378, 52, 31, 3, 40, 1, 46, 21, 2, 5, 9, 1, 2, 1, 4, 32, 1, 2, 5, 3, 2, 26, 1, 4, 5, 2, 870, 1, 4, 1, 1])\n"
          ],
          "name": "stdout"
        }
      ]
    },
    {
      "cell_type": "code",
      "metadata": {
        "id": "GBKGtkcCinL8",
        "colab": {
          "base_uri": "https://localhost:8080/"
        },
        "outputId": "56961665-3084-4512-9cb2-690ff66e541a"
      },
      "source": [
        "\n",
        "\n",
        "#words = ['a', 'b', 'c', 'a']\n",
        "\n",
        "#Counter(words).keys() # equals to list(set(words))\n",
        "#Counter(words).values() # counts the elements' frequency\n",
        "Counter(plotli2).keys() # equals to list(set(words))\n",
        "Counter(plotli2).values() # counts the elements' frequency\n",
        "print(Counter(plotli2).keys())\n",
        "print(Counter(plotli2).values())\n",
        "print( \"connection fail to establish\" in ['active', 'standby', 'UNKNOWN', 'connection fail to establish', 'connectionterminated by local host', 'terminate by peer user', 'connection fail for LMP response timout'])"
      ],
      "execution_count": null,
      "outputs": [
        {
          "output_type": "stream",
          "text": [
            "dict_keys(['Q-64002', 'S-61001', 'B-A8002', 'U-81009', 'J-30021', 'S-65002', 'Q-64001', 'H-51042', 'C-11017', 'H-51046', 'S-64002', 'V-21002', '700001', 'V-21003', 'V-21004', 'V-21005', 'V-21008', 'B-51042', 'H-51048', '60045', 'H-51049', 'U-82026', 'C-13053', 'C-14014', 'V-21010', 'S-64000', 'M-99999', 'Q-73004', 'U-82023', 'Q-73006', 'Y-00008', 'S-65', 'S-64001', 'Y-00005', 'J-40011', 'C-12032', 'D-99999', 'En00402', 'M-51007', 'C-11020', 'V-21007', 'J-30010', 'E-59902', 'M-51020', 'U-82004', 'U-81000', 'B-51049', 'U-82020', 'U-82024', 'P_41001', '0001'])\n",
            "dict_values([9042, 18694, 496804, 6, 339, 1120, 144, 371, 104, 61, 56, 30, 212, 4, 9, 42, 276, 76, 3, 6, 378, 52, 31, 3, 40, 1, 46, 21, 2, 5, 9, 1, 2, 1, 4, 32, 1, 2, 5, 3, 2, 26, 1, 4, 5, 2, 870, 1, 4, 1, 1])\n",
            "True\n"
          ],
          "name": "stdout"
        }
      ]
    },
    {
      "cell_type": "markdown",
      "metadata": {
        "id": "ymyY_hcX93aZ"
      },
      "source": [
        "#errlist만들기\n"
      ]
    },
    {
      "cell_type": "code",
      "metadata": {
        "id": "n5LbYBw4GvJp"
      },
      "source": [
        "errlistprob=np.zeros((5500,152))\n",
        "labprob=np.zeros((5500))\n",
        "cindex=0\n",
        "templi=[]\n",
        "curuser=-1\n",
        "for i in range(15000):\n",
        "    for j in range(cntmy[i]):\n",
        "        temp=timeprob[i][j]\n",
        "        #print(temp[2])\n",
        "        for k in range(len(temp[2])):\n",
        "            if temp[2][k]==23:\n",
        "                if temp[3][k].strip() in ['standby']:\n",
        "                    errlistprob[cindex,42]+=1\n",
        "                elif temp[3][k].strip() in ['connection fail to establish']:\n",
        "                    errlistprob[cindex,28]+=1\n",
        "                elif temp[3][k].strip() in ['connection timeout']:\n",
        "                    errlistprob[cindex,43]+=1\n",
        "                elif temp[3][k].strip() in ['active']:\n",
        "                    errlistprob[cindex,44]+=1\n",
        "                elif temp[3][k].strip() in ['connectionterminated by local host']:\n",
        "                    errlistprob[cindex,45]+=1\n",
        "                elif temp[3][k].strip() in ['terminate by peer user']:\n",
        "                    errlistprob[cindex,46]+=1\n",
        "            elif temp[2][k]==31:\n",
        "                if str(temp[3][k]).strip() in ['1']:\n",
        "                    errlistprob[cindex,47]+=1\n",
        "                if str(temp[3][k]).strip() in ['0']:\n",
        "                    errlistprob[cindex,48]+=1\n",
        "            elif temp[2][k]==4:\n",
        "                if str(temp[3][k]).strip() in ['0']:\n",
        "                    errlistprob[cindex,49]+=1\n",
        "                elif str(temp[3][k]).strip() in ['1']:\n",
        "                    errlistprob[cindex,50]+=1\n",
        "            elif temp[2][k]==40:\n",
        "                if str(temp[3][k]).strip() in ['0']:\n",
        "                    errlistprob[cindex,51]+=1\n",
        "                elif str(temp[3][k]).strip() in ['1']:\n",
        "                    errlistprob[cindex,52]+=1\n",
        "            elif temp[2][k]==1:\n",
        "                if str(temp[3][k]).strip() in ['0']:\n",
        "                    errlistprob[cindex,53]+=1\n",
        "                elif str(temp[3][k]).strip() in ['1']:\n",
        "                    errlistprob[cindex,54]+=1\n",
        "            if temp[2][k]==33:\n",
        "                if str(temp[3][k]).strip() in ['2']:\n",
        "                    errlistprob[cindex,55]+=1\n",
        "                elif str(temp[3][k]).strip() in ['3']:\n",
        "                    errlistprob[cindex,56]+=1\n",
        "                elif str(temp[3][k]).strip() in ['1']:\n",
        "                    errlistprob[cindex,57]+=1\n",
        "            if temp[2][k]==14:\n",
        "                if str(temp[3][k]).strip() in ['13']:\n",
        "                    errlistprob[cindex,58]+=1\n",
        "                elif str(temp[3][k]).strip() in ['14']:\n",
        "                    errlistprob[cindex,59]+=1\n",
        "                elif str(temp[3][k]).strip() in ['1']:\n",
        "                    errlistprob[cindex,60]+=1\n",
        "            elif temp[2][k]==16: #['80', '79', '81', '78', '85', '84', '90', '89', '88', '95', '94', '91', '83', '86', '87', '82', '93', '77', '75', '76', '96', '92', '100'\n",
        "                for idx,val in enumerate(li16):\n",
        "                    if str(temp[3][k]).strip()==val:\n",
        "                        errlistprob[cindex,61+idx]+=1\n",
        "                        break\n",
        "            elif temp[2][k]==5:\n",
        "                for idx,val in enumerate(li5):\n",
        "                    if str(temp[3][k]).strip()==val:\n",
        "                        errlistprob[cindex,126+idx]+=1\n",
        "                        break    \n",
        "            errlistprob[cindex,temp[2][k]-1]+=1\n",
        "\n",
        "        if(len(Counter(temp[4]).keys()) >1):\n",
        "            errlistprob[cindex,84]+=1\n",
        "        if( len(temp[4]) !=0):\n",
        "            errlistprob[cindex,85]=fwint(temp[4][0])\n",
        "        for k in range(len(temp[6])):\n",
        "            errlistprob[cindex,86+k]=temp[6][k]\n",
        "\n",
        "        labprob[cindex]+=1\n",
        "        cindex+=1        \n",
        "\n"
      ],
      "execution_count": null,
      "outputs": []
    },
    {
      "cell_type": "code",
      "metadata": {
        "id": "sb5DTpiqnGBv"
      },
      "source": [
        ""
      ],
      "execution_count": null,
      "outputs": []
    },
    {
      "cell_type": "code",
      "metadata": {
        "colab": {
          "base_uri": "https://localhost:8080/"
        },
        "id": "a2r90desjDBh",
        "outputId": "5e6127cb-cab0-499d-f63d-089c08869601"
      },
      "source": [
        "id_qual[0]"
      ],
      "execution_count": null,
      "outputs": [
        {
          "output_type": "execute_result",
          "data": {
            "text/plain": [
              "array([10000, Timestamp('2020-11-29 09:00:00'), '05.15.2138', 0.0, 0, 0.0,\n",
              "       0, 0, 0.0, 0, 0, 0, 0, 4, 0, 0], dtype=object)"
            ]
          },
          "metadata": {
            "tags": []
          },
          "execution_count": 25
        }
      ]
    },
    {
      "cell_type": "code",
      "metadata": {
        "colab": {
          "base_uri": "https://localhost:8080/",
          "height": 89
        },
        "id": "GSgu6auriZWe",
        "outputId": "d95406d9-7eb2-443a-9564-4c91ac7e1084"
      },
      "source": [
        "'''\n",
        "li2=np.arange(0,13,1)\n",
        "timeerror=3\n",
        "sum=0\n",
        "for i in range(15000):\n",
        "    if idqualarr[i]!=[]:\n",
        "        first,last=idqualarr[i]\n",
        "        for j in range(first,last+1):\n",
        "            qualval=id_qual[j]\n",
        "            timeid=qualval[1]\n",
        "            if( timeid+datetime.timedelta(hours=timeerror*-1) <dtime< timeid+datetime.timedelta(hours=timeerror)):\n",
        "                sum+=1\n",
        "print(sum)\n",
        "'''"
      ],
      "execution_count": null,
      "outputs": [
        {
          "output_type": "execute_result",
          "data": {
            "application/vnd.google.colaboratory.intrinsic+json": {
              "type": "string"
            },
            "text/plain": [
              "'\\nli2=np.arange(0,13,1)\\ntimeerror=3\\nsum=0\\nfor i in range(15000):\\n    if idqualarr[i]!=[]:\\n        first,last=idqualarr[i]\\n        for j in range(first,last+1):\\n            qualval=id_qual[j]\\n            timeid=qualval[1]\\n            if( timeid+datetime.timedelta(hours=timeerror*-1) <dtime< timeid+datetime.timedelta(hours=timeerror)):\\n                sum+=1\\nprint(sum)\\n'"
            ]
          },
          "metadata": {
            "tags": []
          },
          "execution_count": 26
        }
      ]
    },
    {
      "cell_type": "code",
      "metadata": {
        "colab": {
          "base_uri": "https://localhost:8080/"
        },
        "id": "ZN1XuLwOLxr8",
        "outputId": "e5baacd1-aea4-483b-9829-211f14848446"
      },
      "source": [
        "print(cindex)\n",
        "print(len(error))\n",
        "print(temp[4][0])"
      ],
      "execution_count": null,
      "outputs": [
        {
          "output_type": "stream",
          "text": [
            "5429\n",
            "15000\n",
            "04.22.1778\n"
          ],
          "name": "stdout"
        }
      ]
    },
    {
      "cell_type": "code",
      "metadata": {
        "id": "VWCJAOo1I7sr",
        "colab": {
          "base_uri": "https://localhost:8080/"
        },
        "outputId": "71736edb-e475-4dac-973a-255eeb812df6"
      },
      "source": [
        "totalerror=np.zeros((20430,152))\n",
        "labelprob=np.zeros((20430))\n",
        "cindex=0\n",
        "for i in range(len(error)):\n",
        "    for j in range(0,126):\n",
        "        totalerror[cindex,j]=error[i,j]\n",
        "    labelprob[cindex]=problem[i]\n",
        "    cindex+=1\n",
        "print(cindex)\n",
        "for i in range(5429):\n",
        "    for j in range(0,126):\n",
        "        totalerror[cindex,j]=errlistprob[i,j]\n",
        "    labelprob[cindex]=problem[i]\n",
        "    cindex+=1\n",
        "    \n"
      ],
      "execution_count": null,
      "outputs": [
        {
          "output_type": "stream",
          "text": [
            "15000\n"
          ],
          "name": "stdout"
        }
      ]
    },
    {
      "cell_type": "code",
      "metadata": {
        "colab": {
          "base_uri": "https://localhost:8080/"
        },
        "id": "D4mpOmokoyI_",
        "outputId": "587686af-7ab9-400e-8816-c773cc3a2ffa"
      },
      "source": [
        "cindex"
      ],
      "execution_count": null,
      "outputs": [
        {
          "output_type": "execute_result",
          "data": {
            "text/plain": [
              "20429"
            ]
          },
          "metadata": {
            "tags": []
          },
          "execution_count": 29
        }
      ]
    },
    {
      "cell_type": "markdown",
      "metadata": {
        "id": "DHbi211hR6Vc"
      },
      "source": [
        "#2.42 weightli만들기\n",
        "가중치 줘서 트레이닝시켜보기\n"
      ]
    },
    {
      "cell_type": "code",
      "metadata": {
        "id": "IrymdkMdR6El"
      },
      "source": [
        "#weight list구하기\n",
        "weightli=[1]*23430\n",
        "#numerr=800\n",
        "discount=0.3\n",
        "cnt=0\n",
        "sum=0\n",
        "for i,val in enumerate(error):\n",
        "    cnt=0\n",
        "    for j in val:\n",
        "        cnt+=j\n",
        "    if i>15000:\n",
        "        weightli[i]+=0\n",
        "        '''\n",
        "    elif (cnt>numerr):\n",
        "        sum+=1\n",
        "        weightli[i]-=discount\n",
        "    \n",
        "print(sum)\n",
        "'''"
      ],
      "execution_count": null,
      "outputs": []
    },
    {
      "cell_type": "code",
      "metadata": {
        "id": "TihqbaMFR6BL"
      },
      "source": [
        ""
      ],
      "execution_count": null,
      "outputs": []
    },
    {
      "cell_type": "code",
      "metadata": {
        "id": "EvCJhhy_XCNu",
        "colab": {
          "base_uri": "https://localhost:8080/",
          "height": 89
        },
        "outputId": "928c1157-7942-4542-f6c6-038e5b902ecc"
      },
      "source": [
        "'''\n",
        "errlistprob=np.zeros((5500,42))\n",
        "cindex=0\n",
        "for idx,val in enumerate(timeprob):\n",
        "      if idx == 2:\n",
        "          break\n",
        "      else:\n",
        "          print(val)\n",
        "for idx,val in enumerate(timeprob):\n",
        "    if (type(val[0][0])==int):\n",
        "        continue\n",
        "    numofp=cntmy[idx]\n",
        "    for i in range(numofp):\n",
        "        for j in val[2]:\n",
        "            print(val)\n",
        "            errlistprob[cindex,j-1]+=1\n",
        "        cindex+=1\n",
        "'''"
      ],
      "execution_count": null,
      "outputs": [
        {
          "output_type": "execute_result",
          "data": {
            "application/vnd.google.colaboratory.intrinsic+json": {
              "type": "string"
            },
            "text/plain": [
              "'\\nerrlistprob=np.zeros((5500,42))\\ncindex=0\\nfor idx,val in enumerate(timeprob):\\n      if idx == 2:\\n          break\\n      else:\\n          print(val)\\nfor idx,val in enumerate(timeprob):\\n    if (type(val[0][0])==int):\\n        continue\\n    numofp=cntmy[idx]\\n    for i in range(numofp):\\n        for j in val[2]:\\n            print(val)\\n            errlistprob[cindex,j-1]+=1\\n        cindex+=1\\n'"
            ]
          },
          "metadata": {
            "tags": []
          },
          "execution_count": 31
        }
      ]
    },
    {
      "cell_type": "markdown",
      "metadata": {
        "id": "33fH821jFjsx"
      },
      "source": [
        "#2.4 quality data가져오기"
      ]
    },
    {
      "cell_type": "markdown",
      "metadata": {
        "id": "E8I78ykpHMCM"
      },
      "source": [
        "# 2.5 validation set 만들기\n"
      ]
    },
    {
      "cell_type": "code",
      "metadata": {
        "id": "AHk2xctYHRae",
        "colab": {
          "base_uri": "https://localhost:8080/",
          "height": 71
        },
        "outputId": "4fc389fa-a5b0-4c2c-9805-614ab83e9fca"
      },
      "source": [
        "'''\n",
        "from sklearn.model_selection import train_test_split\n",
        "\n",
        "x_train, x_val, y_train, y_val= train_test_split(errstrli,problem, test_size=0.1,shuffle=True,random_state=1004)\n",
        "print(\"validation set shape=\",x_val.shape,y_val.shape) #1500개의 validation set\n",
        "\n",
        "print(x_train[15],y_train[15])\n",
        "'''"
      ],
      "execution_count": null,
      "outputs": [
        {
          "output_type": "execute_result",
          "data": {
            "application/vnd.google.colaboratory.intrinsic+json": {
              "type": "string"
            },
            "text/plain": [
              "'\\nfrom sklearn.model_selection import train_test_split\\n\\nx_train, x_val, y_train, y_val= train_test_split(errstrli,problem, test_size=0.1,shuffle=True,random_state=1004)\\nprint(\"validation set shape=\",x_val.shape,y_val.shape) #1500개의 validation set\\n\\nprint(x_train[15],y_train[15])\\n'"
            ]
          },
          "metadata": {
            "tags": []
          },
          "execution_count": 32
        }
      ]
    },
    {
      "cell_type": "markdown",
      "metadata": {
        "id": "1P4aB8d7Ij6B"
      },
      "source": [
        "#2.6 Embedding layer만들기\n",
        "The Embedding layer can be understood as a lookup table that maps from integer indices (which stand for specific words) to dense vectors (their embeddings)\n",
        "https://www.tensorflow.org/tutorials/text/word_embeddings?hl=en\n",
        "\n",
        "즉, 각각의 error type을 dense vector로 바꿔주는 것이 \n",
        "embedding layer이며, dimentionality (width) 를 조정하면서\n",
        "내 문제에 잘 맞는지 확인할 수 있다.\n",
        "Dense layer에 node를 몇개 둘 것인지 계속 바꿔나가는 것 과 같이.\n",
        "``` python\n",
        "# Embed a 1,000 word vocabulary into 5 dimensions.\n",
        "embedding_layer = tf.keras.layers.Embedding(1000, 5)\n",
        "```\n",
        "### 방안\n",
        "1. 단순하게 생각하면, 우린 42개의 error type이 있다고 볼 수 있다. 고로 42개의 error type 각각을 dense vector로 바꿔주면 되지 않을까?\n",
        "고로, embedding_layer을 다음과같이만들어보자.\n",
        "2. 아니면 42개의 error type이 있는건 맞지만, 되게 다양한 state에서의 error type이존재하기도 한다. 즉 1번 에러 뒤에오는 2번이라던지?\n",
        "근데 경우의 수가 너무 많아지고 본래도 비슷할 것 같다\n",
        "왜냐하면 word도 앞에나올수도 있고 뒤에 나올 수도 있기 때문\n",
        "\n",
        "지금 sequence dimension이라는 것은\n",
        "5 이런거. 우리가 5차원으로 뒀지.\n",
        "1000개의 sequence가 있어 위 예제에는."
      ]
    },
    {
      "cell_type": "markdown",
      "metadata": {
        "id": "0LmHuvcWSnzp"
      },
      "source": [
        "### 2.7 layer에 넣는작업\n",
        "\n",
        "layer에 넣으려면 errli[0]은 317개의 err type 즉, 317개의 5차원 seqeuence가 존재할테고\n",
        "errli[1]은 뭐 몇개 이런식으로 존재할텐데\n",
        "그 개수를 통일시키기 위해서\n",
        "global Average Pooling 1D layer을 두면, 317개의 5차원 sequence들의 평균을 이용해서 둘 수 도 있고,\n",
        "RNN 을 이용할 수도 있어.\n",
        "일단 global Average Pooling 1D"
      ]
    },
    {
      "cell_type": "markdown",
      "metadata": {
        "id": "FIklrwixjh8i"
      },
      "source": [
        "#2.5 word embedding\n",
        "\n"
      ]
    },
    {
      "cell_type": "markdown",
      "metadata": {
        "id": "d14_JY_IlCK4"
      },
      "source": [
        "# 3. Light-gbm 모델 훈련"
      ]
    },
    {
      "cell_type": "code",
      "metadata": {
        "id": "wFW8vySDlCK5",
        "colab": {
          "base_uri": "https://localhost:8080/"
        },
        "outputId": "9fd99477-f15f-4dfc-ffe6-e1e12a79d122"
      },
      "source": [
        "# 변수 이름 변경\n",
        "# error  -> train_x\n",
        "# problem-> train_y\n",
        "#totalerror labelprob\n",
        "#train_x = error\n",
        "#train_y = problem\n",
        "train_x = totalerror\n",
        "train_y = labelprob\n",
        "origtrain_x=error\n",
        "origtrain_y=problem\n",
        "weightnpli=np.array(weightli)\n",
        "#del error, problem\n",
        "print(train_x.shape)\n",
        "print(train_y.shape)\n",
        "print(weightnpli.shape)\n",
        "print(origtrain_x.shape,origtrain_y.shape)"
      ],
      "execution_count": null,
      "outputs": [
        {
          "output_type": "stream",
          "text": [
            "(20430, 152)\n",
            "(20430,)\n",
            "(23430,)\n",
            "(15000, 152) (15000,)\n"
          ],
          "name": "stdout"
        }
      ]
    },
    {
      "cell_type": "code",
      "metadata": {
        "id": "R4v8hVnLubVI",
        "colab": {
          "base_uri": "https://localhost:8080/"
        },
        "outputId": "e13beae3-51f3-428f-e976-b8c8c1a7177e"
      },
      "source": [
        "train_x[0][31]\n"
      ],
      "execution_count": null,
      "outputs": [
        {
          "output_type": "execute_result",
          "data": {
            "text/plain": [
              "0.0"
            ]
          },
          "metadata": {
            "tags": []
          },
          "execution_count": 34
        }
      ]
    },
    {
      "cell_type": "code",
      "metadata": {
        "id": "_hKpcIXS5yTA"
      },
      "source": [
        ""
      ],
      "execution_count": null,
      "outputs": []
    },
    {
      "cell_type": "code",
      "metadata": {
        "scrolled": false,
        "id": "5vQkIfwqlCK5",
        "colab": {
          "base_uri": "https://localhost:8080/"
        },
        "outputId": "666cab5a-c894-4aed-c4f5-79ad93c46b54"
      },
      "source": [
        "# Train\n",
        "#-------------------------------------------------------------------------------------\n",
        "# validation auc score를 확인하기 위해 정의\n",
        "def f_pr_auc(probas_pred, y_true):\n",
        "    labels=y_true.get_label()\n",
        "    p, r, _ = precision_recall_curve(labels, probas_pred)\n",
        "    score=auc(r,p) \n",
        "    return \"pr_auc\", score, True\n",
        "#-------------------------------------------------------------------------------------\n",
        "\n",
        "paramnw={'num_leaves':200,#100\n",
        "       'min_data_in_leaf':30,\n",
        "       'objective':'binary',\n",
        "       'max_depth':11 , #6 10\n",
        "       'learning_rate':0.005 ,#'learning_rate':0.02 ,\n",
        "       'boosting':\"gbdt\",\n",
        "       \"feature_fraction\":0.9, #0.7522\n",
        "       \"bagging_freq\":1,\n",
        "       \"bagging_fraction\":0.7083,\n",
        "       \"bagging_seed\":11,\n",
        "       \"metric\":\"rmse\",\n",
        "       \"random_state\":133\n",
        "       }\n",
        "params = {'learning_rate': 0.005,\n",
        "              'max_depth': 16,\n",
        "              'boosting': 'gbdt',\n",
        "              'objective': 'binary',\n",
        "              'metric': 'auc',\n",
        "               #'is_training_metric': True,\\n\",\n",
        "             'num_leaves': 144,\n",
        "              'feature_fraction': 0.9,\n",
        "              'bagging_fraction': 0.7,\n",
        "              'bagging_freq': 5,\n",
        "              'seed':2020}\n",
        "\n",
        "models     = []\n",
        "recalls    = []\n",
        "precisions = []\n",
        "auc_scores   = []\n",
        "threshold = 0.5\n",
        "# 파라미터 설정\n",
        "params =      {\n",
        "                'boosting_type' : 'gbdt',\n",
        "                'objective'     : 'binary',\n",
        "                'metric'        : 'auc',\n",
        "                'seed': 1015\n",
        "                }\n",
        "#-------------------------------------------------------------------------------------\n",
        "# 5 Kfold cross validation\n",
        "'''\n",
        "k_fold = KFold(n_splits=5, shuffle=True, random_state=42)\n",
        "for train_idx, val_idx in k_fold.split(origtrain_x):\n",
        "    X=origtrain_x[train_idx]\n",
        "    y=origtrain_y[train_idx]\n",
        "    valid_x=origtrain_x[val_idx]\n",
        "    valid_y=origtrain_y[val_idx]   \n",
        "    d_train=lgb.Dataset(X,y)\n",
        "    d_val = lgb.Dataset(valid_x,valid_y)\n",
        "    model2 = lgb.train(\n",
        "                        paramnw,\n",
        "                        train_set       = d_train,\n",
        "                        num_boost_round = 1000,\n",
        "                        valid_sets      = d_val,\n",
        "                        feval           = f_pr_auc,\n",
        "                        verbose_eval    = 20, \n",
        "                        early_stopping_rounds = 200\n",
        "                       )\n",
        "    # cal valid prediction\n",
        "    valid_prob = model.predict(valid_x)\n",
        "    valid_pred = np.where(valid_prob > threshold, 1, 0)\n",
        "    \n",
        "    # cal scores\n",
        "    recall    = recall_score(    valid_y, valid_pred)\n",
        "    precision = precision_score( valid_y, valid_pred)\n",
        "    auc_score = roc_auc_score(   valid_y, valid_prob)\n",
        "\n",
        "    # append scores\n",
        "    models.append(model)\n",
        "    recalls.append(recall)\n",
        "    precisions.append(precision)\n",
        "    auc_scores.append(auc_score)\n",
        "    print('==========================================================')\n",
        "'''\n",
        "k_fold = KFold(n_splits=5, shuffle=True, random_state=42)\n",
        "for train_idx, val_idx in k_fold.split(train_x):\n",
        "    X=train_x[train_idx]\n",
        "    y=train_y[train_idx]\n",
        "    weightnplis=weightnpli[train_idx]\n",
        "    valid_x=train_x[val_idx]\n",
        "    valid_y=train_y[val_idx]\n",
        "    d_train=lgb.Dataset(X,y, weight=weightnplis)\n",
        "    d_val = lgb.Dataset(valid_x,valid_y)\n",
        "\n",
        "    #run traning\n",
        "    model = lgb.train(\n",
        "                        paramnw,\n",
        "                        train_set       = d_train,\n",
        "                        num_boost_round = 1000,\n",
        "                        valid_sets      = d_val,\n",
        "                        feval           = f_pr_auc,\n",
        "                        verbose_eval    = 20, \n",
        "                        early_stopping_rounds = 300\n",
        "                       )\n",
        "    \n",
        "    # cal valid prediction\n",
        "    valid_prob = model.predict(valid_x)\n",
        "    valid_pred = np.where(valid_prob > threshold, 1, 0)\n",
        "    \n",
        "    # cal scores\n",
        "    recall    = recall_score(    valid_y, valid_pred)\n",
        "    precision = precision_score( valid_y, valid_pred)\n",
        "    auc_score = roc_auc_score(   valid_y, valid_prob)\n",
        "\n",
        "    # append scores\n",
        "    models.append(model)\n",
        "    recalls.append(recall)\n",
        "    precisions.append(precision)\n",
        "    auc_scores.append(auc_score)\n",
        "\n",
        "    print('==========================================================')"
      ],
      "execution_count": null,
      "outputs": [
        {
          "output_type": "stream",
          "text": [
            "[20]\tvalid_0's rmse: 0.460487\tvalid_0's pr_auc: 0.621359\n",
            "[40]\tvalid_0's rmse: 0.461959\tvalid_0's pr_auc: 0.618251\n",
            "[60]\tvalid_0's rmse: 0.463993\tvalid_0's pr_auc: 0.617088\n",
            "[80]\tvalid_0's rmse: 0.47132\tvalid_0's pr_auc: 0.61732\n",
            "[100]\tvalid_0's rmse: 0.468726\tvalid_0's pr_auc: 0.618615\n",
            "[120]\tvalid_0's rmse: 0.464652\tvalid_0's pr_auc: 0.619764\n",
            "[140]\tvalid_0's rmse: 0.460868\tvalid_0's pr_auc: 0.620735\n",
            "[160]\tvalid_0's rmse: 0.459779\tvalid_0's pr_auc: 0.620009\n",
            "[180]\tvalid_0's rmse: 0.457933\tvalid_0's pr_auc: 0.620366\n",
            "[200]\tvalid_0's rmse: 0.454878\tvalid_0's pr_auc: 0.620137\n",
            "[220]\tvalid_0's rmse: 0.454802\tvalid_0's pr_auc: 0.621211\n",
            "[240]\tvalid_0's rmse: 0.453773\tvalid_0's pr_auc: 0.621906\n",
            "[260]\tvalid_0's rmse: 0.452829\tvalid_0's pr_auc: 0.621951\n",
            "[280]\tvalid_0's rmse: 0.450112\tvalid_0's pr_auc: 0.620898\n",
            "[300]\tvalid_0's rmse: 0.450318\tvalid_0's pr_auc: 0.620832\n",
            "[320]\tvalid_0's rmse: 0.448582\tvalid_0's pr_auc: 0.621372\n",
            "[340]\tvalid_0's rmse: 0.445713\tvalid_0's pr_auc: 0.620748\n",
            "[360]\tvalid_0's rmse: 0.443373\tvalid_0's pr_auc: 0.621592\n",
            "[380]\tvalid_0's rmse: 0.442813\tvalid_0's pr_auc: 0.623025\n",
            "[400]\tvalid_0's rmse: 0.442597\tvalid_0's pr_auc: 0.622991\n",
            "[420]\tvalid_0's rmse: 0.442416\tvalid_0's pr_auc: 0.623783\n",
            "[440]\tvalid_0's rmse: 0.441146\tvalid_0's pr_auc: 0.623933\n",
            "[460]\tvalid_0's rmse: 0.441361\tvalid_0's pr_auc: 0.623921\n",
            "[480]\tvalid_0's rmse: 0.441547\tvalid_0's pr_auc: 0.623854\n",
            "[500]\tvalid_0's rmse: 0.440518\tvalid_0's pr_auc: 0.624429\n",
            "[520]\tvalid_0's rmse: 0.43862\tvalid_0's pr_auc: 0.624197\n",
            "[540]\tvalid_0's rmse: 0.437328\tvalid_0's pr_auc: 0.623653\n",
            "[560]\tvalid_0's rmse: 0.436583\tvalid_0's pr_auc: 0.623967\n",
            "[580]\tvalid_0's rmse: 0.436353\tvalid_0's pr_auc: 0.624417\n",
            "[600]\tvalid_0's rmse: 0.435843\tvalid_0's pr_auc: 0.624574\n",
            "[620]\tvalid_0's rmse: 0.435104\tvalid_0's pr_auc: 0.624449\n",
            "[640]\tvalid_0's rmse: 0.434266\tvalid_0's pr_auc: 0.624503\n",
            "[660]\tvalid_0's rmse: 0.434032\tvalid_0's pr_auc: 0.624497\n",
            "[680]\tvalid_0's rmse: 0.433445\tvalid_0's pr_auc: 0.624993\n",
            "[700]\tvalid_0's rmse: 0.433232\tvalid_0's pr_auc: 0.625859\n",
            "[720]\tvalid_0's rmse: 0.432933\tvalid_0's pr_auc: 0.626271\n",
            "[740]\tvalid_0's rmse: 0.432757\tvalid_0's pr_auc: 0.625565\n",
            "[760]\tvalid_0's rmse: 0.43176\tvalid_0's pr_auc: 0.624929\n",
            "[780]\tvalid_0's rmse: 0.431304\tvalid_0's pr_auc: 0.62508\n",
            "[800]\tvalid_0's rmse: 0.430736\tvalid_0's pr_auc: 0.625566\n",
            "[820]\tvalid_0's rmse: 0.429835\tvalid_0's pr_auc: 0.625425\n",
            "[840]\tvalid_0's rmse: 0.429271\tvalid_0's pr_auc: 0.626068\n",
            "[860]\tvalid_0's rmse: 0.429118\tvalid_0's pr_auc: 0.626113\n",
            "[880]\tvalid_0's rmse: 0.42868\tvalid_0's pr_auc: 0.626299\n",
            "[900]\tvalid_0's rmse: 0.428023\tvalid_0's pr_auc: 0.62637\n",
            "[920]\tvalid_0's rmse: 0.427645\tvalid_0's pr_auc: 0.626644\n",
            "[940]\tvalid_0's rmse: 0.426913\tvalid_0's pr_auc: 0.627531\n",
            "[960]\tvalid_0's rmse: 0.42648\tvalid_0's pr_auc: 0.628814\n",
            "[980]\tvalid_0's rmse: 0.425991\tvalid_0's pr_auc: 0.629117\n",
            "[1000]\tvalid_0's rmse: 0.425357\tvalid_0's pr_auc: 0.629193\n",
            "==========================================================\n",
            "[20]\tvalid_0's rmse: 0.452327\tvalid_0's pr_auc: 0.632988\n",
            "[40]\tvalid_0's rmse: 0.456466\tvalid_0's pr_auc: 0.634557\n",
            "[60]\tvalid_0's rmse: 0.459382\tvalid_0's pr_auc: 0.637435\n",
            "[80]\tvalid_0's rmse: 0.468285\tvalid_0's pr_auc: 0.640228\n",
            "[100]\tvalid_0's rmse: 0.465461\tvalid_0's pr_auc: 0.638855\n",
            "[120]\tvalid_0's rmse: 0.460974\tvalid_0's pr_auc: 0.638282\n",
            "[140]\tvalid_0's rmse: 0.456755\tvalid_0's pr_auc: 0.637796\n",
            "[160]\tvalid_0's rmse: 0.455453\tvalid_0's pr_auc: 0.638962\n",
            "[180]\tvalid_0's rmse: 0.453383\tvalid_0's pr_auc: 0.638474\n",
            "[200]\tvalid_0's rmse: 0.449907\tvalid_0's pr_auc: 0.63822\n",
            "[220]\tvalid_0's rmse: 0.449936\tvalid_0's pr_auc: 0.638003\n",
            "[240]\tvalid_0's rmse: 0.448754\tvalid_0's pr_auc: 0.638065\n",
            "[260]\tvalid_0's rmse: 0.44768\tvalid_0's pr_auc: 0.637865\n",
            "[280]\tvalid_0's rmse: 0.444387\tvalid_0's pr_auc: 0.638412\n",
            "[300]\tvalid_0's rmse: 0.444642\tvalid_0's pr_auc: 0.639246\n",
            "[320]\tvalid_0's rmse: 0.442595\tvalid_0's pr_auc: 0.639558\n",
            "[340]\tvalid_0's rmse: 0.439113\tvalid_0's pr_auc: 0.64076\n",
            "[360]\tvalid_0's rmse: 0.436364\tvalid_0's pr_auc: 0.641608\n",
            "[380]\tvalid_0's rmse: 0.435763\tvalid_0's pr_auc: 0.64212\n",
            "[400]\tvalid_0's rmse: 0.435562\tvalid_0's pr_auc: 0.641966\n",
            "[420]\tvalid_0's rmse: 0.435375\tvalid_0's pr_auc: 0.641368\n",
            "[440]\tvalid_0's rmse: 0.433851\tvalid_0's pr_auc: 0.642374\n",
            "[460]\tvalid_0's rmse: 0.434139\tvalid_0's pr_auc: 0.641855\n",
            "[480]\tvalid_0's rmse: 0.434338\tvalid_0's pr_auc: 0.642049\n",
            "[500]\tvalid_0's rmse: 0.433143\tvalid_0's pr_auc: 0.641753\n",
            "[520]\tvalid_0's rmse: 0.43077\tvalid_0's pr_auc: 0.642298\n",
            "[540]\tvalid_0's rmse: 0.429123\tvalid_0's pr_auc: 0.643446\n",
            "[560]\tvalid_0's rmse: 0.42825\tvalid_0's pr_auc: 0.643666\n",
            "[580]\tvalid_0's rmse: 0.428052\tvalid_0's pr_auc: 0.644129\n",
            "[600]\tvalid_0's rmse: 0.427508\tvalid_0's pr_auc: 0.644321\n",
            "[620]\tvalid_0's rmse: 0.426594\tvalid_0's pr_auc: 0.644861\n",
            "[640]\tvalid_0's rmse: 0.42553\tvalid_0's pr_auc: 0.644623\n",
            "[660]\tvalid_0's rmse: 0.425158\tvalid_0's pr_auc: 0.645244\n",
            "[680]\tvalid_0's rmse: 0.424483\tvalid_0's pr_auc: 0.644046\n",
            "[700]\tvalid_0's rmse: 0.424311\tvalid_0's pr_auc: 0.644114\n",
            "[720]\tvalid_0's rmse: 0.42399\tvalid_0's pr_auc: 0.644253\n",
            "[740]\tvalid_0's rmse: 0.423775\tvalid_0's pr_auc: 0.644792\n",
            "[760]\tvalid_0's rmse: 0.422472\tvalid_0's pr_auc: 0.644612\n",
            "[780]\tvalid_0's rmse: 0.421861\tvalid_0's pr_auc: 0.644642\n",
            "[800]\tvalid_0's rmse: 0.421124\tvalid_0's pr_auc: 0.644883\n",
            "[820]\tvalid_0's rmse: 0.419924\tvalid_0's pr_auc: 0.645192\n",
            "[840]\tvalid_0's rmse: 0.419327\tvalid_0's pr_auc: 0.644359\n",
            "[860]\tvalid_0's rmse: 0.419065\tvalid_0's pr_auc: 0.64442\n",
            "[880]\tvalid_0's rmse: 0.418478\tvalid_0's pr_auc: 0.644395\n",
            "[900]\tvalid_0's rmse: 0.417635\tvalid_0's pr_auc: 0.645013\n",
            "[920]\tvalid_0's rmse: 0.417165\tvalid_0's pr_auc: 0.645386\n",
            "[940]\tvalid_0's rmse: 0.416253\tvalid_0's pr_auc: 0.645464\n",
            "[960]\tvalid_0's rmse: 0.415824\tvalid_0's pr_auc: 0.645373\n",
            "[980]\tvalid_0's rmse: 0.415205\tvalid_0's pr_auc: 0.645883\n",
            "[1000]\tvalid_0's rmse: 0.41424\tvalid_0's pr_auc: 0.645967\n",
            "==========================================================\n",
            "[20]\tvalid_0's rmse: 0.442579\tvalid_0's pr_auc: 0.569717\n",
            "[40]\tvalid_0's rmse: 0.450898\tvalid_0's pr_auc: 0.568537\n",
            "[60]\tvalid_0's rmse: 0.455299\tvalid_0's pr_auc: 0.56766\n",
            "[80]\tvalid_0's rmse: 0.466344\tvalid_0's pr_auc: 0.569412\n",
            "[100]\tvalid_0's rmse: 0.463681\tvalid_0's pr_auc: 0.568301\n",
            "[120]\tvalid_0's rmse: 0.459302\tvalid_0's pr_auc: 0.567712\n",
            "[140]\tvalid_0's rmse: 0.454993\tvalid_0's pr_auc: 0.568832\n",
            "[160]\tvalid_0's rmse: 0.453679\tvalid_0's pr_auc: 0.569269\n",
            "[180]\tvalid_0's rmse: 0.451623\tvalid_0's pr_auc: 0.570336\n",
            "[200]\tvalid_0's rmse: 0.448135\tvalid_0's pr_auc: 0.571312\n",
            "[220]\tvalid_0's rmse: 0.448191\tvalid_0's pr_auc: 0.570654\n",
            "[240]\tvalid_0's rmse: 0.446942\tvalid_0's pr_auc: 0.570728\n",
            "[260]\tvalid_0's rmse: 0.445821\tvalid_0's pr_auc: 0.570783\n",
            "[280]\tvalid_0's rmse: 0.442584\tvalid_0's pr_auc: 0.572295\n",
            "[300]\tvalid_0's rmse: 0.442887\tvalid_0's pr_auc: 0.573257\n",
            "[320]\tvalid_0's rmse: 0.440862\tvalid_0's pr_auc: 0.573407\n",
            "[340]\tvalid_0's rmse: 0.437478\tvalid_0's pr_auc: 0.574058\n",
            "[360]\tvalid_0's rmse: 0.434738\tvalid_0's pr_auc: 0.575184\n",
            "[380]\tvalid_0's rmse: 0.434119\tvalid_0's pr_auc: 0.576084\n",
            "[400]\tvalid_0's rmse: 0.433879\tvalid_0's pr_auc: 0.576378\n",
            "[420]\tvalid_0's rmse: 0.433657\tvalid_0's pr_auc: 0.576436\n",
            "[440]\tvalid_0's rmse: 0.432136\tvalid_0's pr_auc: 0.576451\n",
            "[460]\tvalid_0's rmse: 0.432388\tvalid_0's pr_auc: 0.576997\n",
            "[480]\tvalid_0's rmse: 0.432592\tvalid_0's pr_auc: 0.577322\n",
            "[500]\tvalid_0's rmse: 0.431332\tvalid_0's pr_auc: 0.578306\n",
            "[520]\tvalid_0's rmse: 0.429009\tvalid_0's pr_auc: 0.578359\n",
            "[540]\tvalid_0's rmse: 0.427482\tvalid_0's pr_auc: 0.57854\n",
            "[560]\tvalid_0's rmse: 0.426588\tvalid_0's pr_auc: 0.578645\n",
            "[580]\tvalid_0's rmse: 0.426407\tvalid_0's pr_auc: 0.579349\n",
            "[600]\tvalid_0's rmse: 0.425841\tvalid_0's pr_auc: 0.579561\n",
            "[620]\tvalid_0's rmse: 0.424916\tvalid_0's pr_auc: 0.579314\n",
            "[640]\tvalid_0's rmse: 0.423922\tvalid_0's pr_auc: 0.58008\n",
            "[660]\tvalid_0's rmse: 0.42354\tvalid_0's pr_auc: 0.580164\n",
            "[680]\tvalid_0's rmse: 0.422759\tvalid_0's pr_auc: 0.581473\n",
            "[700]\tvalid_0's rmse: 0.422602\tvalid_0's pr_auc: 0.581743\n",
            "[720]\tvalid_0's rmse: 0.422273\tvalid_0's pr_auc: 0.581805\n",
            "[740]\tvalid_0's rmse: 0.422067\tvalid_0's pr_auc: 0.58175\n",
            "[760]\tvalid_0's rmse: 0.420713\tvalid_0's pr_auc: 0.582277\n",
            "[780]\tvalid_0's rmse: 0.420128\tvalid_0's pr_auc: 0.582095\n",
            "[800]\tvalid_0's rmse: 0.419387\tvalid_0's pr_auc: 0.583256\n",
            "[820]\tvalid_0's rmse: 0.418155\tvalid_0's pr_auc: 0.583172\n",
            "[840]\tvalid_0's rmse: 0.417474\tvalid_0's pr_auc: 0.583216\n",
            "[860]\tvalid_0's rmse: 0.417267\tvalid_0's pr_auc: 0.583505\n",
            "[880]\tvalid_0's rmse: 0.41665\tvalid_0's pr_auc: 0.584052\n",
            "[900]\tvalid_0's rmse: 0.415747\tvalid_0's pr_auc: 0.584293\n",
            "[920]\tvalid_0's rmse: 0.415308\tvalid_0's pr_auc: 0.584751\n",
            "[940]\tvalid_0's rmse: 0.414299\tvalid_0's pr_auc: 0.585413\n",
            "[960]\tvalid_0's rmse: 0.413863\tvalid_0's pr_auc: 0.585656\n",
            "[980]\tvalid_0's rmse: 0.41331\tvalid_0's pr_auc: 0.585735\n",
            "[1000]\tvalid_0's rmse: 0.412413\tvalid_0's pr_auc: 0.585926\n",
            "==========================================================\n",
            "[20]\tvalid_0's rmse: 0.442292\tvalid_0's pr_auc: 0.560916\n",
            "[40]\tvalid_0's rmse: 0.450959\tvalid_0's pr_auc: 0.562272\n",
            "[60]\tvalid_0's rmse: 0.455492\tvalid_0's pr_auc: 0.564017\n",
            "[80]\tvalid_0's rmse: 0.466632\tvalid_0's pr_auc: 0.5665\n",
            "[100]\tvalid_0's rmse: 0.464021\tvalid_0's pr_auc: 0.566447\n",
            "[120]\tvalid_0's rmse: 0.459735\tvalid_0's pr_auc: 0.568065\n",
            "[140]\tvalid_0's rmse: 0.455506\tvalid_0's pr_auc: 0.567757\n",
            "[160]\tvalid_0's rmse: 0.454281\tvalid_0's pr_auc: 0.569523\n",
            "[180]\tvalid_0's rmse: 0.452313\tvalid_0's pr_auc: 0.570951\n",
            "[200]\tvalid_0's rmse: 0.448901\tvalid_0's pr_auc: 0.57125\n",
            "[220]\tvalid_0's rmse: 0.449002\tvalid_0's pr_auc: 0.571481\n",
            "[240]\tvalid_0's rmse: 0.447802\tvalid_0's pr_auc: 0.572112\n",
            "[260]\tvalid_0's rmse: 0.446682\tvalid_0's pr_auc: 0.572607\n",
            "[280]\tvalid_0's rmse: 0.443571\tvalid_0's pr_auc: 0.571583\n",
            "[300]\tvalid_0's rmse: 0.443859\tvalid_0's pr_auc: 0.572727\n",
            "[320]\tvalid_0's rmse: 0.441872\tvalid_0's pr_auc: 0.57326\n",
            "[340]\tvalid_0's rmse: 0.438534\tvalid_0's pr_auc: 0.573423\n",
            "[360]\tvalid_0's rmse: 0.43587\tvalid_0's pr_auc: 0.573666\n",
            "[380]\tvalid_0's rmse: 0.435237\tvalid_0's pr_auc: 0.574093\n",
            "[400]\tvalid_0's rmse: 0.434987\tvalid_0's pr_auc: 0.574487\n",
            "[420]\tvalid_0's rmse: 0.434786\tvalid_0's pr_auc: 0.574171\n",
            "[440]\tvalid_0's rmse: 0.433271\tvalid_0's pr_auc: 0.574567\n",
            "[460]\tvalid_0's rmse: 0.433539\tvalid_0's pr_auc: 0.574943\n",
            "[480]\tvalid_0's rmse: 0.433783\tvalid_0's pr_auc: 0.575288\n",
            "[500]\tvalid_0's rmse: 0.432524\tvalid_0's pr_auc: 0.575785\n",
            "[520]\tvalid_0's rmse: 0.430319\tvalid_0's pr_auc: 0.576617\n",
            "[540]\tvalid_0's rmse: 0.428827\tvalid_0's pr_auc: 0.577059\n",
            "[560]\tvalid_0's rmse: 0.427977\tvalid_0's pr_auc: 0.577106\n",
            "[580]\tvalid_0's rmse: 0.427894\tvalid_0's pr_auc: 0.577155\n",
            "[600]\tvalid_0's rmse: 0.427344\tvalid_0's pr_auc: 0.577076\n",
            "[620]\tvalid_0's rmse: 0.426479\tvalid_0's pr_auc: 0.576709\n",
            "[640]\tvalid_0's rmse: 0.425439\tvalid_0's pr_auc: 0.576942\n",
            "[660]\tvalid_0's rmse: 0.425144\tvalid_0's pr_auc: 0.57677\n",
            "[680]\tvalid_0's rmse: 0.424432\tvalid_0's pr_auc: 0.576829\n",
            "[700]\tvalid_0's rmse: 0.424218\tvalid_0's pr_auc: 0.577215\n",
            "[720]\tvalid_0's rmse: 0.42389\tvalid_0's pr_auc: 0.57714\n",
            "[740]\tvalid_0's rmse: 0.423631\tvalid_0's pr_auc: 0.577663\n",
            "[760]\tvalid_0's rmse: 0.422236\tvalid_0's pr_auc: 0.577638\n",
            "[780]\tvalid_0's rmse: 0.421627\tvalid_0's pr_auc: 0.578414\n",
            "[800]\tvalid_0's rmse: 0.420964\tvalid_0's pr_auc: 0.578394\n",
            "[820]\tvalid_0's rmse: 0.419799\tvalid_0's pr_auc: 0.578355\n",
            "[840]\tvalid_0's rmse: 0.419116\tvalid_0's pr_auc: 0.578308\n",
            "[860]\tvalid_0's rmse: 0.418927\tvalid_0's pr_auc: 0.5783\n",
            "[880]\tvalid_0's rmse: 0.418351\tvalid_0's pr_auc: 0.578677\n",
            "[900]\tvalid_0's rmse: 0.417543\tvalid_0's pr_auc: 0.578726\n",
            "[920]\tvalid_0's rmse: 0.417112\tvalid_0's pr_auc: 0.578431\n",
            "[940]\tvalid_0's rmse: 0.416193\tvalid_0's pr_auc: 0.578589\n",
            "[960]\tvalid_0's rmse: 0.415791\tvalid_0's pr_auc: 0.578814\n",
            "[980]\tvalid_0's rmse: 0.415245\tvalid_0's pr_auc: 0.578903\n",
            "[1000]\tvalid_0's rmse: 0.414367\tvalid_0's pr_auc: 0.578925\n",
            "==========================================================\n",
            "[20]\tvalid_0's rmse: 0.538211\tvalid_0's pr_auc: 0.768997\n",
            "[40]\tvalid_0's rmse: 0.51247\tvalid_0's pr_auc: 0.766385\n",
            "[60]\tvalid_0's rmse: 0.503711\tvalid_0's pr_auc: 0.767782\n",
            "[80]\tvalid_0's rmse: 0.494001\tvalid_0's pr_auc: 0.769027\n",
            "[100]\tvalid_0's rmse: 0.491336\tvalid_0's pr_auc: 0.768624\n",
            "[120]\tvalid_0's rmse: 0.487826\tvalid_0's pr_auc: 0.770082\n",
            "[140]\tvalid_0's rmse: 0.485749\tvalid_0's pr_auc: 0.771284\n",
            "[160]\tvalid_0's rmse: 0.485333\tvalid_0's pr_auc: 0.771577\n",
            "[180]\tvalid_0's rmse: 0.483659\tvalid_0's pr_auc: 0.770262\n",
            "[200]\tvalid_0's rmse: 0.482171\tvalid_0's pr_auc: 0.770368\n",
            "[220]\tvalid_0's rmse: 0.481595\tvalid_0's pr_auc: 0.771096\n",
            "[240]\tvalid_0's rmse: 0.481196\tvalid_0's pr_auc: 0.772033\n",
            "[260]\tvalid_0's rmse: 0.480836\tvalid_0's pr_auc: 0.77183\n",
            "[280]\tvalid_0's rmse: 0.479543\tvalid_0's pr_auc: 0.771825\n",
            "[300]\tvalid_0's rmse: 0.479429\tvalid_0's pr_auc: 0.77161\n",
            "[320]\tvalid_0's rmse: 0.47867\tvalid_0's pr_auc: 0.771252\n",
            "[340]\tvalid_0's rmse: 0.476974\tvalid_0's pr_auc: 0.772351\n",
            "[360]\tvalid_0's rmse: 0.475802\tvalid_0's pr_auc: 0.772002\n",
            "[380]\tvalid_0's rmse: 0.475679\tvalid_0's pr_auc: 0.772132\n",
            "[400]\tvalid_0's rmse: 0.475608\tvalid_0's pr_auc: 0.771899\n",
            "[420]\tvalid_0's rmse: 0.475577\tvalid_0's pr_auc: 0.772236\n",
            "[440]\tvalid_0's rmse: 0.475147\tvalid_0's pr_auc: 0.772326\n",
            "[460]\tvalid_0's rmse: 0.475055\tvalid_0's pr_auc: 0.772338\n",
            "[480]\tvalid_0's rmse: 0.474876\tvalid_0's pr_auc: 0.772839\n",
            "[500]\tvalid_0's rmse: 0.474547\tvalid_0's pr_auc: 0.772537\n",
            "[520]\tvalid_0's rmse: 0.47349\tvalid_0's pr_auc: 0.772569\n",
            "[540]\tvalid_0's rmse: 0.472929\tvalid_0's pr_auc: 0.772532\n",
            "[560]\tvalid_0's rmse: 0.472758\tvalid_0's pr_auc: 0.772451\n",
            "[580]\tvalid_0's rmse: 0.47214\tvalid_0's pr_auc: 0.772646\n",
            "[600]\tvalid_0's rmse: 0.472045\tvalid_0's pr_auc: 0.772758\n",
            "[620]\tvalid_0's rmse: 0.471896\tvalid_0's pr_auc: 0.773027\n",
            "[640]\tvalid_0's rmse: 0.471502\tvalid_0's pr_auc: 0.773604\n",
            "[660]\tvalid_0's rmse: 0.471534\tvalid_0's pr_auc: 0.773461\n",
            "[680]\tvalid_0's rmse: 0.471296\tvalid_0's pr_auc: 0.773647\n",
            "[700]\tvalid_0's rmse: 0.471108\tvalid_0's pr_auc: 0.773824\n",
            "[720]\tvalid_0's rmse: 0.471082\tvalid_0's pr_auc: 0.773404\n",
            "[740]\tvalid_0's rmse: 0.470817\tvalid_0's pr_auc: 0.773988\n",
            "[760]\tvalid_0's rmse: 0.470642\tvalid_0's pr_auc: 0.774307\n",
            "[780]\tvalid_0's rmse: 0.470612\tvalid_0's pr_auc: 0.774371\n",
            "[800]\tvalid_0's rmse: 0.470442\tvalid_0's pr_auc: 0.773982\n",
            "[820]\tvalid_0's rmse: 0.470374\tvalid_0's pr_auc: 0.774227\n",
            "[840]\tvalid_0's rmse: 0.47033\tvalid_0's pr_auc: 0.774293\n",
            "[860]\tvalid_0's rmse: 0.470362\tvalid_0's pr_auc: 0.774319\n",
            "[880]\tvalid_0's rmse: 0.470165\tvalid_0's pr_auc: 0.774284\n",
            "[900]\tvalid_0's rmse: 0.470149\tvalid_0's pr_auc: 0.774659\n",
            "[920]\tvalid_0's rmse: 0.470083\tvalid_0's pr_auc: 0.77506\n",
            "[940]\tvalid_0's rmse: 0.470081\tvalid_0's pr_auc: 0.775348\n",
            "[960]\tvalid_0's rmse: 0.469939\tvalid_0's pr_auc: 0.775216\n",
            "[980]\tvalid_0's rmse: 0.469926\tvalid_0's pr_auc: 0.775347\n",
            "[1000]\tvalid_0's rmse: 0.469849\tvalid_0's pr_auc: 0.7752\n",
            "==========================================================\n"
          ],
          "name": "stdout"
        }
      ]
    },
    {
      "cell_type": "markdown",
      "metadata": {
        "id": "3cGCBl-5lCK5"
      },
      "source": [
        "# 4. 교차검증 점수 확인"
      ]
    },
    {
      "cell_type": "code",
      "metadata": {
        "id": "29zqBCynlCK5",
        "colab": {
          "base_uri": "https://localhost:8080/"
        },
        "outputId": "134dda2f-ca58-4807-b851-940d3e73fda8"
      },
      "source": [
        "print(np.mean(auc_scores)) #0.7459298202316195 0.8066887653152083 #0.77893 0.780559 depth 11 0.780628\n",
        "# 0.8072759477430488 0.746440183016864 0.7471924683182276 0.7475194696987806 #0.7534156010437357(젤높은거)"
      ],
      "execution_count": null,
      "outputs": [
        {
          "output_type": "stream",
          "text": [
            "0.7491021375975487\n"
          ],
          "name": "stdout"
        }
      ]
    },
    {
      "cell_type": "markdown",
      "metadata": {
        "id": "k1A1n4qIlCK6"
      },
      "source": [
        "# 5. 제출 파일 생성"
      ]
    },
    {
      "cell_type": "code",
      "metadata": {
        "id": "z6zSyKj7lCK6",
        "colab": {
          "base_uri": "https://localhost:8080/",
          "height": 348
        },
        "outputId": "239bd2ee-5f6e-4ffc-be92-b15d6138a6be"
      },
      "source": [
        "test_err  = pd.read_csv(PATH+'test_err_data.csv')\n",
        "display(test_err.head())\n",
        "print(test_err.fwver.unique())"
      ],
      "execution_count": null,
      "outputs": [
        {
          "output_type": "display_data",
          "data": {
            "text/html": [
              "<div>\n",
              "<style scoped>\n",
              "    .dataframe tbody tr th:only-of-type {\n",
              "        vertical-align: middle;\n",
              "    }\n",
              "\n",
              "    .dataframe tbody tr th {\n",
              "        vertical-align: top;\n",
              "    }\n",
              "\n",
              "    .dataframe thead th {\n",
              "        text-align: right;\n",
              "    }\n",
              "</style>\n",
              "<table border=\"1\" class=\"dataframe\">\n",
              "  <thead>\n",
              "    <tr style=\"text-align: right;\">\n",
              "      <th></th>\n",
              "      <th>user_id</th>\n",
              "      <th>time</th>\n",
              "      <th>model_nm</th>\n",
              "      <th>fwver</th>\n",
              "      <th>errtype</th>\n",
              "      <th>errcode</th>\n",
              "    </tr>\n",
              "  </thead>\n",
              "  <tbody>\n",
              "    <tr>\n",
              "      <th>0</th>\n",
              "      <td>30000</td>\n",
              "      <td>20201101030227</td>\n",
              "      <td>model_1</td>\n",
              "      <td>04.16.3553</td>\n",
              "      <td>31</td>\n",
              "      <td>1</td>\n",
              "    </tr>\n",
              "    <tr>\n",
              "      <th>1</th>\n",
              "      <td>30000</td>\n",
              "      <td>20201101030227</td>\n",
              "      <td>model_1</td>\n",
              "      <td>04.16.3553</td>\n",
              "      <td>33</td>\n",
              "      <td>2</td>\n",
              "    </tr>\n",
              "    <tr>\n",
              "      <th>2</th>\n",
              "      <td>30000</td>\n",
              "      <td>20201101030228</td>\n",
              "      <td>model_1</td>\n",
              "      <td>04.16.3553</td>\n",
              "      <td>15</td>\n",
              "      <td>1</td>\n",
              "    </tr>\n",
              "    <tr>\n",
              "      <th>3</th>\n",
              "      <td>30000</td>\n",
              "      <td>20201101030256</td>\n",
              "      <td>model_1</td>\n",
              "      <td>04.16.3553</td>\n",
              "      <td>22</td>\n",
              "      <td>1</td>\n",
              "    </tr>\n",
              "    <tr>\n",
              "      <th>4</th>\n",
              "      <td>30000</td>\n",
              "      <td>20201101030300</td>\n",
              "      <td>model_1</td>\n",
              "      <td>04.16.3553</td>\n",
              "      <td>11</td>\n",
              "      <td>1</td>\n",
              "    </tr>\n",
              "  </tbody>\n",
              "</table>\n",
              "</div>"
            ],
            "text/plain": [
              "   user_id            time model_nm       fwver  errtype errcode\n",
              "0    30000  20201101030227  model_1  04.16.3553       31       1\n",
              "1    30000  20201101030227  model_1  04.16.3553       33       2\n",
              "2    30000  20201101030228  model_1  04.16.3553       15       1\n",
              "3    30000  20201101030256  model_1  04.16.3553       22       1\n",
              "4    30000  20201101030300  model_1  04.16.3553       11       1"
            ]
          },
          "metadata": {
            "tags": []
          }
        },
        {
          "output_type": "stream",
          "text": [
            "['04.16.3553' '04.16.3571' '04.33.1261' '05.15.2138' '04.22.1750'\n",
            " '04.22.1778' '04.33.1149' '03.11.1167' '04.33.1185' '04.22.1684'\n",
            " '05.15.2120' '04.82.1684' '04.82.1778' '10' '05.66.3237' '04.73.2569'\n",
            " '04.73.2571' '04.73.2237' '04.73.2577' '04.82.1730' '04.22.1478' '8.5.3'\n",
            " '04.22.1666' '04.22.1656' '03.11.1149' '04.33.1171' '05.66.3571'\n",
            " '04.16.3439' '05.15.2092' '03.11.1141' '04.22.1608' '05.15.3104'\n",
            " '04.33.1125' '04.22.1448' '05.15.2114' '10.22.1770' '10.22.1780'\n",
            " '04.16.3569' '04.22.1772' '04.22.1170']\n"
          ],
          "name": "stdout"
        }
      ]
    },
    {
      "cell_type": "code",
      "metadata": {
        "id": "wvhdbYHVlCK6"
      },
      "source": [
        "# 데이터 설명을 확인하면\n",
        "# test 데이터는 ueser_id가 30000부터 44998까지 총 14999개가 존재.\n",
        "test_user_id_max = 44998\n",
        "test_user_id_min = 30000\n",
        "test_user_number = 14999\n",
        "test_err['datetime'] = test_err['time'].apply(make_datetime)\n",
        "id_error = test_err[['user_id','datetime','fwver','errtype','errcode']].values\n",
        "#fulltest_x=np.zeros((test_user_number,42))\n",
        "test_x = np.zeros((test_user_number,152))\n"
      ],
      "execution_count": null,
      "outputs": []
    },
    {
      "cell_type": "code",
      "metadata": {
        "colab": {
          "base_uri": "https://localhost:8080/"
        },
        "id": "iuK2E4JdSihE",
        "outputId": "7b94bccf-c53e-4416-fadd-87bf8d1dfe70"
      },
      "source": [
        "train_qual = pd.read_csv(PATH+'test_quality_data.csv',thousands=',')\n",
        "train_qual['datetime'] = train_qual['time'].apply(make_datetime)\n",
        "\n",
        "id_qual=train_qual[['user_id','datetime','fwver','quality_0','quality_1','quality_2','quality_3','quality_4','quality_5','quality_6','quality_7','quality_8','quality_9','quality_10','quality_11','quality_12']].values\n",
        "qualili=np.zeros((15000,14))\n",
        "cnt=0\n",
        "\n",
        "curuser=30000\n",
        "cnt=0\n",
        "#qualist=([10000,10000,10000,10000,10000,10000,10000,10000,10000,10000,10000,10000,10000,-500,-500,-500,-500,-500,-500,-500,-500,-500,-500,-500,-500,-500])*15000\n",
        "qualist=np.zeros((15000,26))\n",
        "for i in qualist:\n",
        "    for j in range(13):\n",
        "        i[j]=100000000\n",
        "    for j in range(13,26):\n",
        "        i[j]=-500\n",
        "\n",
        "min=1000000000\n",
        "max=-500\n",
        "for j in tqdm(id_qual):\n",
        "    if curuser==j[0]:\n",
        "        for i in range(3,16):\n",
        "          if( qualist[curuser-30000][i-3]>j[i]):\n",
        "              qualist[curuser-30000][i-3]=j[i]\n",
        "          elif (qualist[curuser-30000][i-3+13]<j[i]):\n",
        "              qualist[curuser-30000][i-3+13]=j[i]\n",
        "    else:\n",
        "        curuser=j[0]\n",
        "        for i in range(3,16):\n",
        "          if( qualist[curuser-30000][i-3]>j[i]):\n",
        "              qualist[curuser-30000][i-3]=j[i]\n",
        "          elif (qualist[curuser-30000][i-3+13]<j[i]):\n",
        "              qualist[curuser-30000][i-3+13]=j[i]\n",
        "\n",
        "#for user,dat,fw,q0,q1,q2,q3,q4,q5,q6,q7,q8,q9,q10,q11,q12 in tqdm(id_qual):\n",
        "print(curuser)\n",
        "newqualist=np.zeros((15000,13))\n",
        "for i in range(15000):\n",
        "    for j in range(13):\n",
        "        if (qualist[i][j+13]-qualist[i][j] <-5000): #초기값\n",
        "            continue\n",
        "        else:\n",
        "            newqualist[i][j]=qualist[i][j+13]-qualist[i][j]\n",
        "\n",
        "   \n"
      ],
      "execution_count": null,
      "outputs": [
        {
          "output_type": "stream",
          "text": [
            "100%|██████████| 747972/747972 [00:13<00:00, 55130.64it/s]\n"
          ],
          "name": "stderr"
        },
        {
          "output_type": "stream",
          "text": [
            "44997\n"
          ],
          "name": "stdout"
        }
      ]
    },
    {
      "cell_type": "code",
      "metadata": {
        "colab": {
          "base_uri": "https://localhost:8080/"
        },
        "id": "7LCkA9lCS5yp",
        "outputId": "114a2020-a2d0-4350-8435-d24ce3df9400"
      },
      "source": [
        "person,timeid=id_qual[0][0],id_qual[0][1]\n",
        "person,timeid\n",
        "print(person,timeid)\n",
        "ab=[]\n",
        "#print(id_errtime[0],id_errtime[500])# 10000 번째, 10001번쨰 두명있네.\n",
        "curuser=30000\n",
        "first=0\n",
        "last=0\n",
        "cnt=0\n",
        "idqualarr=[]\n",
        "for user,dat,fw,q0,q1,q2,q3,q4,q5,q6,q7,q8,q9,q10,q11,q12 in tqdm(id_qual):\n",
        "    if (curuser==user):\n",
        "        last=cnt\n",
        "    else:\n",
        "        li=[]\n",
        "        li.append(first)\n",
        "        li.append(last)        \n",
        "        idqualarr.append(li)\n",
        "        ab.append(curuser)\n",
        "        for i in range(curuser+1,user):\n",
        "            idqualarr.append([])\n",
        "            ab.append(i)\n",
        "        first=cnt\n",
        "        curuser=user\n",
        "    cnt+=1\n",
        "\n",
        "li=[]\n",
        "li.append(first)\n",
        "li.append(last)\n",
        "idqualarr.append(li)\n",
        "idqualarr.append([])\n",
        "#idqualarr.append([])"
      ],
      "execution_count": null,
      "outputs": [
        {
          "output_type": "stream",
          "text": [
            "  7%|▋         | 54378/747972 [00:00<00:01, 543776.63it/s]"
          ],
          "name": "stderr"
        },
        {
          "output_type": "stream",
          "text": [
            "30000 2020-11-28 19:00:00\n"
          ],
          "name": "stdout"
        },
        {
          "output_type": "stream",
          "text": [
            "100%|██████████| 747972/747972 [00:01<00:00, 587196.97it/s]\n"
          ],
          "name": "stderr"
        }
      ]
    },
    {
      "cell_type": "code",
      "metadata": {
        "id": "VzTCj-jqUJOV"
      },
      "source": [
        "print(len(idqualarr))\n",
        "print(user)"
      ],
      "execution_count": null,
      "outputs": []
    },
    {
      "cell_type": "code",
      "metadata": {
        "colab": {
          "base_uri": "https://localhost:8080/"
        },
        "id": "6ywNkXZuWWao",
        "outputId": "5bcf7ffd-1689-4396-a8b7-8a487d4dab9e"
      },
      "source": [
        "id_error = test_err[['user_id','datetime','fwver','errtype','errcode']].values\n",
        "#error = np.zeros((test_user_number,126)) #14999,42 의 0배열 생성.\n",
        "#errorreduc=np.zeros((train_user_number,32))\n",
        "minnum=317\n",
        "curuser=30000\n",
        "#errstrli=np.zeros((train_user_number,1),dtype=\"object\")\n",
        "\n",
        "#errli=np.empty((train_user_number,1),dtype=\"object\")\n",
        "sum=0\n",
        "allnum=0\n",
        "color=0\n",
        "temp=[]\n",
        "#usid,dtime,fw,erty,errco\n",
        "cnt=0\n",
        "li16=['80', '79', '81', '78', '85', '84', '90', '89', '88', '95', '94', '91', '83', '86', '87', '82', '93', '77', '75', '76', '96', '92', '100']\n",
        "for person_idx,dtime,fw,err,errco in tqdm(id_error):\n",
        "    #print(person_idx)\n",
        "    if err==23:\n",
        "        if errco.strip() in ['standby']:\n",
        "            test_x[person_idx-test_user_id_min,42]+=1\n",
        "        elif errco.strip() in ['connection fail to establish']:\n",
        "            test_x[person_idx-test_user_id_min,28]+=1\n",
        "        elif errco.strip() in ['connection timeout']:\n",
        "            test_x[person_idx-test_user_id_min,43]+=1\n",
        "        elif errco.strip() in ['active']:\n",
        "            test_x[person_idx-test_user_id_min,44]+=1\n",
        "        elif errco.strip() in ['connectionterminated by local host']:\n",
        "            test_x[person_idx-test_user_id_min,45]+=1\n",
        "        elif errco.strip() in ['terminate by peer user']:\n",
        "            test_x[person_idx-test_user_id_min,46]+=1\n",
        "    elif err==31:\n",
        "        if str(errco).strip() in ['1']:\n",
        "            test_x[person_idx-test_user_id_min,47]+=1\n",
        "        if str(errco).strip() in ['0']:\n",
        "            test_x[person_idx-test_user_id_min,48]+=1\n",
        "    elif err==4:\n",
        "        if str(errco).strip() in ['0']:\n",
        "            test_x[person_idx-test_user_id_min,49]+=1\n",
        "        elif str(errco).strip() in ['1']:\n",
        "            test_x[person_idx-test_user_id_min,50]+=1\n",
        "    elif err==40:\n",
        "        if str(errco).strip() in ['0']:\n",
        "            test_x[person_idx-test_user_id_min,51]+=1\n",
        "        elif str(errco).strip() in ['1']:\n",
        "            test_x[person_idx-test_user_id_min,52]+=1\n",
        "    elif err==1:\n",
        "        if str(errco).strip() in ['0']:\n",
        "            test_x[person_idx-test_user_id_min,53]+=1\n",
        "        elif str(errco).strip() in ['1']:\n",
        "            test_x[person_idx-test_user_id_min,54]+=1\n",
        "    if err==33:\n",
        "        if str(errco).strip() in ['2']:\n",
        "            test_x[person_idx-test_user_id_min,55]+=1\n",
        "        elif str(errco).strip() in ['3']:\n",
        "            test_x[person_idx-test_user_id_min,56]+=1\n",
        "        elif str(errco).strip() in ['1']:\n",
        "            test_x[person_idx-test_user_id_min,57]+=1\n",
        "    if err==14:\n",
        "        if str(errco).strip() in ['13']:\n",
        "            test_x[person_idx-test_user_id_min,58]+=1\n",
        "        elif str(errco).strip() in ['14']:\n",
        "            test_x[person_idx-test_user_id_min,59]+=1\n",
        "        elif str(errco).strip() in ['1']:\n",
        "            test_x[person_idx-test_user_id_min,60]+=1\n",
        "    elif err==16: #['80', '79', '81', '78', '85', '84', '90', '89', '88', '95', '94', '91', '83', '86', '87', '82', '93', '77', '75', '76', '96', '92', '100'\n",
        "        for idx,val in enumerate(li16):\n",
        "            if str(errco).strip()==val:\n",
        "                test_x[person_idx-test_user_id_min,61+idx]+=1\n",
        "                break\n",
        "    elif err==5:\n",
        "        for idx,val in enumerate(li5):\n",
        "            if str(errco).strip()==val:\n",
        "                test_x[person_idx-test_user_id_min,126+idx]+=1\n",
        "                break\n",
        "    if(curuser==person_idx):\n",
        "        temp.append(fw)\n",
        "    else:\n",
        "        if(len(Counter(temp).keys()) >1):\n",
        "            test_x[person_idx-test_user_id_min,84]+=1\n",
        "        test_x[person_idx-test_user_id_min,85]=fwint(temp[0])\n",
        "        temp=[]\n",
        "        curuser=person_idx\n",
        "        temp.append(fw)\n",
        "        \n",
        "    \n",
        "    test_x[person_idx - test_user_id_min,err - 1] += 1\n",
        "\n",
        "    # person_idx - train_user_id_min 위치에 person_idx, errtype에 해당하는 error값을 +1  그래서 [사람idx,error type] 번째에 +=1 되는건데, errtype이 1~42니까 -1 해서 errtype의 min은 0번부터시작, person도 0번부터 시작\n",
        "if(len(Counter(temp).keys()) >1):\n",
        "    test_x[person_idx-test_user_id_min,84]+=1\n",
        "test_x[person_idx-test_user_id_min,85]=fwint(temp[0])"
      ],
      "execution_count": null,
      "outputs": [
        {
          "output_type": "stream",
          "text": [
            "100%|██████████| 16532648/16532648 [00:53<00:00, 311257.40it/s]\n"
          ],
          "name": "stderr"
        }
      ]
    },
    {
      "cell_type": "code",
      "metadata": {
        "id": "BrrepvXYVtsV"
      },
      "source": [
        "max=-1\n",
        "li2=np.arange(0,13,1)\n",
        "for i in range(14999):\n",
        "    if idqualarr[i]!=[]:\n",
        "        first,last=idqualarr[i]\n",
        "        meanarr=np.zeros((last+1-first,13))\n",
        "        cindex=0\n",
        "        for j in range(first,last+1):\n",
        "            qualval=id_qual[j]\n",
        "            for k in range(3,16):\n",
        "              meanarr[cindex,k-3]=qualval[k]\n",
        "            cindex+=1\n",
        "        df=pd.DataFrame(meanarr,columns=li2)\n",
        "        listd=df.std()\n",
        "        limean=df.mean()\n",
        "        for j in range(0,13):\n",
        "            test_x[i,99+j]=limean[j]\n",
        "            test_x[i,99+j+13]=listd[j]\n",
        "            #qualstd[i,j]=limean[j]\n",
        "            #qualstd[i,j+13]=listd[j]\n",
        "for i in range(14999):\n",
        "    for j in range(13):\n",
        "        test_x[i,86+j]=newqualist[i,j]\n"
      ],
      "execution_count": null,
      "outputs": []
    },
    {
      "cell_type": "code",
      "metadata": {
        "id": "jyuFY-_gV1UO"
      },
      "source": [
        ""
      ],
      "execution_count": null,
      "outputs": []
    },
    {
      "cell_type": "code",
      "metadata": {
        "id": "VdsxDXF6lCK6"
      },
      "source": [
        "'''\n",
        "curuser=30000\n",
        "for  person_idx,dtime,fw,err,errco in tqdm(id_error):\n",
        "    # person_idx - test_user_id_min 위치에 person_idx, errtype에 해당하는 error값을 +1\n",
        "    if errco in ['standby']:\n",
        "        continue\n",
        "    test_x[person_idx - test_user_id_min,err - 1] += 1\n",
        "    #test_x[person_idx-test_user_id_min,err-1]+=1\n",
        "    #fulltest_x[person_idx-test_user_id_min,42]=fwint(fw)\n",
        "    #if (err in errdic):\n",
        "     #   test_x[person_idx - test_user_id_min, errdic[err]]+=1\n",
        "     #   test_x[person_idx-test_user_id_min,31]=fwint(fw)\n",
        "#fulltest_x=test_x.reshape(fulltest_x.shape[0],-1)\n",
        "test_x = test_x.reshape(test_x.shape[0],-1)\n",
        "print(test_x.shape)\n",
        "'''"
      ],
      "execution_count": null,
      "outputs": []
    },
    {
      "cell_type": "code",
      "metadata": {
        "id": "hUf90OH_lCK7"
      },
      "source": [
        "# 예측\n",
        "pred_y_list = []\n",
        "for model in models:\n",
        "    pred_y = model.predict(test_x)\n",
        "    #pred_y = model.predict(fulltest_x)\n",
        "    pred_y_list.append(pred_y.reshape(-1,1))\n",
        "    \n",
        "pred_ensemble = np.mean(pred_y_list, axis = 0)\n"
      ],
      "execution_count": null,
      "outputs": []
    },
    {
      "cell_type": "code",
      "metadata": {
        "id": "MNv5OXaYlCK7",
        "colab": {
          "base_uri": "https://localhost:8080/"
        },
        "outputId": "c7b0ca3a-b434-4eeb-a0ec-14be7f176c68"
      },
      "source": [
        "pred_ensemble\n",
        "#"
      ],
      "execution_count": null,
      "outputs": [
        {
          "output_type": "execute_result",
          "data": {
            "text/plain": [
              "array([[0.89541817],\n",
              "       [0.34314991],\n",
              "       [0.50836294],\n",
              "       ...,\n",
              "       [0.7363002 ],\n",
              "       [0.79382683],\n",
              "       [0.3917885 ]])"
            ]
          },
          "metadata": {
            "tags": []
          },
          "execution_count": 44
        }
      ]
    },
    {
      "cell_type": "markdown",
      "metadata": {
        "id": "Ajs6ZZtleEAx"
      },
      "source": [
        ""
      ]
    },
    {
      "cell_type": "code",
      "metadata": {
        "id": "yG0jhs1LlCK7"
      },
      "source": [
        "sample_submssion = pd.read_csv(PATH+'sample_submission.csv')"
      ],
      "execution_count": null,
      "outputs": []
    },
    {
      "cell_type": "code",
      "metadata": {
        "id": "UTycZqWylCK7"
      },
      "source": [
        "sample_submssion['problem'] = pred_ensemble.reshape(-1)"
      ],
      "execution_count": null,
      "outputs": []
    },
    {
      "cell_type": "code",
      "metadata": {
        "scrolled": true,
        "id": "jFXWhmT4lCK7",
        "colab": {
          "base_uri": "https://localhost:8080/",
          "height": 419
        },
        "outputId": "37aeb094-0a0c-4d5e-9779-ad509c0f1f1c"
      },
      "source": [
        "sample_submssion.to_csv(\"byeon_highestwith128paramwith11depthfeafrac allsameweight.csv\", index = False)\n",
        "sample_submssion"
      ],
      "execution_count": null,
      "outputs": [
        {
          "output_type": "execute_result",
          "data": {
            "text/html": [
              "<div>\n",
              "<style scoped>\n",
              "    .dataframe tbody tr th:only-of-type {\n",
              "        vertical-align: middle;\n",
              "    }\n",
              "\n",
              "    .dataframe tbody tr th {\n",
              "        vertical-align: top;\n",
              "    }\n",
              "\n",
              "    .dataframe thead th {\n",
              "        text-align: right;\n",
              "    }\n",
              "</style>\n",
              "<table border=\"1\" class=\"dataframe\">\n",
              "  <thead>\n",
              "    <tr style=\"text-align: right;\">\n",
              "      <th></th>\n",
              "      <th>user_id</th>\n",
              "      <th>problem</th>\n",
              "    </tr>\n",
              "  </thead>\n",
              "  <tbody>\n",
              "    <tr>\n",
              "      <th>0</th>\n",
              "      <td>30000</td>\n",
              "      <td>0.895418</td>\n",
              "    </tr>\n",
              "    <tr>\n",
              "      <th>1</th>\n",
              "      <td>30001</td>\n",
              "      <td>0.343150</td>\n",
              "    </tr>\n",
              "    <tr>\n",
              "      <th>2</th>\n",
              "      <td>30002</td>\n",
              "      <td>0.508363</td>\n",
              "    </tr>\n",
              "    <tr>\n",
              "      <th>3</th>\n",
              "      <td>30003</td>\n",
              "      <td>0.717533</td>\n",
              "    </tr>\n",
              "    <tr>\n",
              "      <th>4</th>\n",
              "      <td>30004</td>\n",
              "      <td>0.655876</td>\n",
              "    </tr>\n",
              "    <tr>\n",
              "      <th>...</th>\n",
              "      <td>...</td>\n",
              "      <td>...</td>\n",
              "    </tr>\n",
              "    <tr>\n",
              "      <th>14994</th>\n",
              "      <td>44994</td>\n",
              "      <td>0.192958</td>\n",
              "    </tr>\n",
              "    <tr>\n",
              "      <th>14995</th>\n",
              "      <td>44995</td>\n",
              "      <td>0.300698</td>\n",
              "    </tr>\n",
              "    <tr>\n",
              "      <th>14996</th>\n",
              "      <td>44996</td>\n",
              "      <td>0.736300</td>\n",
              "    </tr>\n",
              "    <tr>\n",
              "      <th>14997</th>\n",
              "      <td>44997</td>\n",
              "      <td>0.793827</td>\n",
              "    </tr>\n",
              "    <tr>\n",
              "      <th>14998</th>\n",
              "      <td>44998</td>\n",
              "      <td>0.391789</td>\n",
              "    </tr>\n",
              "  </tbody>\n",
              "</table>\n",
              "<p>14999 rows × 2 columns</p>\n",
              "</div>"
            ],
            "text/plain": [
              "       user_id   problem\n",
              "0        30000  0.895418\n",
              "1        30001  0.343150\n",
              "2        30002  0.508363\n",
              "3        30003  0.717533\n",
              "4        30004  0.655876\n",
              "...        ...       ...\n",
              "14994    44994  0.192958\n",
              "14995    44995  0.300698\n",
              "14996    44996  0.736300\n",
              "14997    44997  0.793827\n",
              "14998    44998  0.391789\n",
              "\n",
              "[14999 rows x 2 columns]"
            ]
          },
          "metadata": {
            "tags": []
          },
          "execution_count": 47
        }
      ]
    },
    {
      "cell_type": "code",
      "metadata": {
        "id": "dtxqnxZKSANG",
        "colab": {
          "base_uri": "https://localhost:8080/",
          "height": 295
        },
        "outputId": "9e183f61-3e90-496c-bf42-e8b57bf2ba00"
      },
      "source": [
        "lgb.plot_importance(model)\n",
        "plt.show()\n",
        "feature_importance=pd.DataFrame([model.feature_name(),model.feature_importance()]).T\n",
        "feature_importance.columns=[\"features\",\"varimp\"]\n",
        "feature_importance=feature_importance.sort_values([\"varimp\"],ascending=False)\n",
        "feature_importance.head()\n",
        "feature_importance.to_csv(\"128paramimportance.csv\",index=False)"
      ],
      "execution_count": null,
      "outputs": [
        {
          "output_type": "display_data",
          "data": {
            "image/png": "[encoded data removed]",
            "text/plain": [
              "<Figure size 432x288 with 1 Axes>"
            ]
          },
          "metadata": {
            "tags": [],
            "needs_background": "light"
          }
        }
      ]
    },
    {
      "cell_type": "markdown",
      "metadata": {
        "id": "BCrVghdxUeD8"
      },
      "source": [
        "정확도 *0.82269* 109위. 종료.\n",
        "https://dacon.io/competitions/official/235687/leaderboard/\n"
      ]
    },
    {
      "cell_type": "code",
      "metadata": {
        "id": "fegVDxMBMrg4"
      },
      "source": [
        ""
      ],
      "execution_count": null,
      "outputs": []
    }
  ]
}